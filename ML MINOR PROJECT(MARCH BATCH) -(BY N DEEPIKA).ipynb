{
 "cells": [
  {
   "cell_type": "markdown",
   "metadata": {},
   "source": [
    "#                       MACHINE LEARNING WITH PYTHON, MINOR PROJECT(MARCH-APRIL)\n",
    "                                   \n",
    "        "
   ]
  },
  {
   "cell_type": "markdown",
   "metadata": {},
   "source": [
    "**(MADE BY : N DEEPIKA)** "
   ]
  },
  {
   "cell_type": "markdown",
   "metadata": {},
   "source": [
    "# Object : To expose the best combination for strategy games available in the appstore in order to get a good user rating (4.0/5.0 and above). "
   ]
  },
  {
   "cell_type": "code",
   "execution_count": 121,
   "metadata": {},
   "outputs": [],
   "source": [
    "import pandas as pd\n",
    "\n",
    "user_cols =['URL','ID','Name','Subtitle','Icon URL','Average User Rating','User Rating Count','Price','In-app Purchases','Description','Developer','Age Rating','Languages','Size','Primary Genre','Genres','Original Release Date','Current Version Release Date']\n",
    "user=pd.read_csv(r'C:\\Users\\hp\\Downloads\\appstore_games .csv',sep=',', header=None, names=user_cols)\n"
   ]
  },
  {
   "cell_type": "code",
   "execution_count": 122,
   "metadata": {},
   "outputs": [
    {
     "data": {
      "text/plain": [
       "(17008, 18)"
      ]
     },
     "execution_count": 122,
     "metadata": {},
     "output_type": "execute_result"
    }
   ],
   "source": [
    "user.shape"
   ]
  },
  {
   "cell_type": "code",
   "execution_count": 123,
   "metadata": {},
   "outputs": [
    {
     "data": {
      "text/html": [
       "<div>\n",
       "<style scoped>\n",
       "    .dataframe tbody tr th:only-of-type {\n",
       "        vertical-align: middle;\n",
       "    }\n",
       "\n",
       "    .dataframe tbody tr th {\n",
       "        vertical-align: top;\n",
       "    }\n",
       "\n",
       "    .dataframe thead th {\n",
       "        text-align: right;\n",
       "    }\n",
       "</style>\n",
       "<table border=\"1\" class=\"dataframe\">\n",
       "  <thead>\n",
       "    <tr style=\"text-align: right;\">\n",
       "      <th></th>\n",
       "      <th>URL</th>\n",
       "      <th>ID</th>\n",
       "      <th>Name</th>\n",
       "      <th>Subtitle</th>\n",
       "      <th>Icon URL</th>\n",
       "      <th>Average User Rating</th>\n",
       "      <th>User Rating Count</th>\n",
       "      <th>Price</th>\n",
       "      <th>In-app Purchases</th>\n",
       "      <th>Description</th>\n",
       "      <th>Developer</th>\n",
       "      <th>Age Rating</th>\n",
       "      <th>Languages</th>\n",
       "      <th>Size</th>\n",
       "      <th>Primary Genre</th>\n",
       "      <th>Genres</th>\n",
       "      <th>Original Release Date</th>\n",
       "      <th>Current Version Release Date</th>\n",
       "    </tr>\n",
       "  </thead>\n",
       "  <tbody>\n",
       "    <tr>\n",
       "      <th>0</th>\n",
       "      <td>URL</td>\n",
       "      <td>ID</td>\n",
       "      <td>Name</td>\n",
       "      <td>Subtitle</td>\n",
       "      <td>Icon URL</td>\n",
       "      <td>Average User Rating</td>\n",
       "      <td>User Rating Count</td>\n",
       "      <td>Price</td>\n",
       "      <td>In-app Purchases</td>\n",
       "      <td>Description</td>\n",
       "      <td>Developer</td>\n",
       "      <td>Age Rating</td>\n",
       "      <td>Languages</td>\n",
       "      <td>Size</td>\n",
       "      <td>Primary Genre</td>\n",
       "      <td>Genres</td>\n",
       "      <td>Original Release Date</td>\n",
       "      <td>Current Version Release Date</td>\n",
       "    </tr>\n",
       "    <tr>\n",
       "      <th>1</th>\n",
       "      <td>https://apps.apple.com/us/app/sudoku/id284921427</td>\n",
       "      <td>284921427</td>\n",
       "      <td>Sudoku</td>\n",
       "      <td>NaN</td>\n",
       "      <td>https://is2-ssl.mzstatic.com/image/thumb/Purpl...</td>\n",
       "      <td>4</td>\n",
       "      <td>3553</td>\n",
       "      <td>2.99</td>\n",
       "      <td>NaN</td>\n",
       "      <td>Join over 21,000,000 of our fans and download ...</td>\n",
       "      <td>Mighty Mighty Good Games</td>\n",
       "      <td>4+</td>\n",
       "      <td>DA, NL, EN, FI, FR, DE, IT, JA, KO, NB, PL, PT...</td>\n",
       "      <td>15853568</td>\n",
       "      <td>Games</td>\n",
       "      <td>Games, Strategy, Puzzle</td>\n",
       "      <td>11-07-2008</td>\n",
       "      <td>30-05-2017</td>\n",
       "    </tr>\n",
       "    <tr>\n",
       "      <th>2</th>\n",
       "      <td>https://apps.apple.com/us/app/reversi/id284926400</td>\n",
       "      <td>284926400</td>\n",
       "      <td>Reversi</td>\n",
       "      <td>NaN</td>\n",
       "      <td>https://is4-ssl.mzstatic.com/image/thumb/Purpl...</td>\n",
       "      <td>3.5</td>\n",
       "      <td>284</td>\n",
       "      <td>1.99</td>\n",
       "      <td>NaN</td>\n",
       "      <td>The classic game of Reversi, also known as Oth...</td>\n",
       "      <td>Kiss The Machine</td>\n",
       "      <td>4+</td>\n",
       "      <td>EN</td>\n",
       "      <td>12328960</td>\n",
       "      <td>Games</td>\n",
       "      <td>Games, Strategy, Board</td>\n",
       "      <td>11-07-2008</td>\n",
       "      <td>17-05-2018</td>\n",
       "    </tr>\n",
       "    <tr>\n",
       "      <th>3</th>\n",
       "      <td>https://apps.apple.com/us/app/morocco/id284946595</td>\n",
       "      <td>284946595</td>\n",
       "      <td>Morocco</td>\n",
       "      <td>NaN</td>\n",
       "      <td>https://is5-ssl.mzstatic.com/image/thumb/Purpl...</td>\n",
       "      <td>3</td>\n",
       "      <td>8376</td>\n",
       "      <td>0</td>\n",
       "      <td>NaN</td>\n",
       "      <td>Play the classic strategy game Othello (also k...</td>\n",
       "      <td>Bayou Games</td>\n",
       "      <td>4+</td>\n",
       "      <td>EN</td>\n",
       "      <td>674816</td>\n",
       "      <td>Games</td>\n",
       "      <td>Games, Board, Strategy</td>\n",
       "      <td>11-07-2008</td>\n",
       "      <td>05-09-2017</td>\n",
       "    </tr>\n",
       "    <tr>\n",
       "      <th>4</th>\n",
       "      <td>https://apps.apple.com/us/app/sudoku-free/id28...</td>\n",
       "      <td>285755462</td>\n",
       "      <td>Sudoku (Free)</td>\n",
       "      <td>NaN</td>\n",
       "      <td>https://is3-ssl.mzstatic.com/image/thumb/Purpl...</td>\n",
       "      <td>3.5</td>\n",
       "      <td>190394</td>\n",
       "      <td>0</td>\n",
       "      <td>NaN</td>\n",
       "      <td>Top 100 free app for over a year.\\nRated \"Best...</td>\n",
       "      <td>Mighty Mighty Good Games</td>\n",
       "      <td>4+</td>\n",
       "      <td>DA, NL, EN, FI, FR, DE, IT, JA, KO, NB, PL, PT...</td>\n",
       "      <td>21552128</td>\n",
       "      <td>Games</td>\n",
       "      <td>Games, Strategy, Puzzle</td>\n",
       "      <td>23-07-2008</td>\n",
       "      <td>30-05-2017</td>\n",
       "    </tr>\n",
       "  </tbody>\n",
       "</table>\n",
       "</div>"
      ],
      "text/plain": [
       "                                                 URL         ID  \\\n",
       "0                                                URL         ID   \n",
       "1   https://apps.apple.com/us/app/sudoku/id284921427  284921427   \n",
       "2  https://apps.apple.com/us/app/reversi/id284926400  284926400   \n",
       "3  https://apps.apple.com/us/app/morocco/id284946595  284946595   \n",
       "4  https://apps.apple.com/us/app/sudoku-free/id28...  285755462   \n",
       "\n",
       "            Name  Subtitle                                           Icon URL  \\\n",
       "0           Name  Subtitle                                           Icon URL   \n",
       "1         Sudoku       NaN  https://is2-ssl.mzstatic.com/image/thumb/Purpl...   \n",
       "2        Reversi       NaN  https://is4-ssl.mzstatic.com/image/thumb/Purpl...   \n",
       "3        Morocco       NaN  https://is5-ssl.mzstatic.com/image/thumb/Purpl...   \n",
       "4  Sudoku (Free)       NaN  https://is3-ssl.mzstatic.com/image/thumb/Purpl...   \n",
       "\n",
       "   Average User Rating  User Rating Count  Price  In-app Purchases  \\\n",
       "0  Average User Rating  User Rating Count  Price  In-app Purchases   \n",
       "1                    4               3553   2.99               NaN   \n",
       "2                  3.5                284   1.99               NaN   \n",
       "3                    3               8376      0               NaN   \n",
       "4                  3.5             190394      0               NaN   \n",
       "\n",
       "                                         Description  \\\n",
       "0                                        Description   \n",
       "1  Join over 21,000,000 of our fans and download ...   \n",
       "2  The classic game of Reversi, also known as Oth...   \n",
       "3  Play the classic strategy game Othello (also k...   \n",
       "4  Top 100 free app for over a year.\\nRated \"Best...   \n",
       "\n",
       "                  Developer  Age Rating  \\\n",
       "0                 Developer  Age Rating   \n",
       "1  Mighty Mighty Good Games          4+   \n",
       "2          Kiss The Machine          4+   \n",
       "3               Bayou Games          4+   \n",
       "4  Mighty Mighty Good Games          4+   \n",
       "\n",
       "                                           Languages      Size  Primary Genre  \\\n",
       "0                                          Languages      Size  Primary Genre   \n",
       "1  DA, NL, EN, FI, FR, DE, IT, JA, KO, NB, PL, PT...  15853568          Games   \n",
       "2                                                 EN  12328960          Games   \n",
       "3                                                 EN    674816          Games   \n",
       "4  DA, NL, EN, FI, FR, DE, IT, JA, KO, NB, PL, PT...  21552128          Games   \n",
       "\n",
       "                    Genres  Original Release Date  \\\n",
       "0                   Genres  Original Release Date   \n",
       "1  Games, Strategy, Puzzle             11-07-2008   \n",
       "2   Games, Strategy, Board             11-07-2008   \n",
       "3   Games, Board, Strategy             11-07-2008   \n",
       "4  Games, Strategy, Puzzle             23-07-2008   \n",
       "\n",
       "   Current Version Release Date  \n",
       "0  Current Version Release Date  \n",
       "1                    30-05-2017  \n",
       "2                    17-05-2018  \n",
       "3                    05-09-2017  \n",
       "4                    30-05-2017  "
      ]
     },
     "execution_count": 123,
     "metadata": {},
     "output_type": "execute_result"
    }
   ],
   "source": [
    "user.head()"
   ]
  },
  {
   "cell_type": "code",
   "execution_count": 124,
   "metadata": {},
   "outputs": [],
   "source": [
    "user.drop([0], axis=0, inplace=True)"
   ]
  },
  {
   "cell_type": "code",
   "execution_count": 125,
   "metadata": {},
   "outputs": [
    {
     "data": {
      "text/plain": [
       "(17007, 18)"
      ]
     },
     "execution_count": 125,
     "metadata": {},
     "output_type": "execute_result"
    }
   ],
   "source": [
    "user.shape"
   ]
  },
  {
   "cell_type": "code",
   "execution_count": 126,
   "metadata": {},
   "outputs": [
    {
     "data": {
      "text/html": [
       "<div>\n",
       "<style scoped>\n",
       "    .dataframe tbody tr th:only-of-type {\n",
       "        vertical-align: middle;\n",
       "    }\n",
       "\n",
       "    .dataframe tbody tr th {\n",
       "        vertical-align: top;\n",
       "    }\n",
       "\n",
       "    .dataframe thead th {\n",
       "        text-align: right;\n",
       "    }\n",
       "</style>\n",
       "<table border=\"1\" class=\"dataframe\">\n",
       "  <thead>\n",
       "    <tr style=\"text-align: right;\">\n",
       "      <th></th>\n",
       "      <th>URL</th>\n",
       "      <th>ID</th>\n",
       "      <th>Name</th>\n",
       "      <th>Subtitle</th>\n",
       "      <th>Icon URL</th>\n",
       "      <th>Average User Rating</th>\n",
       "      <th>User Rating Count</th>\n",
       "      <th>Price</th>\n",
       "      <th>In-app Purchases</th>\n",
       "      <th>Description</th>\n",
       "      <th>Developer</th>\n",
       "      <th>Age Rating</th>\n",
       "      <th>Languages</th>\n",
       "      <th>Size</th>\n",
       "      <th>Primary Genre</th>\n",
       "      <th>Genres</th>\n",
       "      <th>Original Release Date</th>\n",
       "      <th>Current Version Release Date</th>\n",
       "    </tr>\n",
       "  </thead>\n",
       "  <tbody>\n",
       "    <tr>\n",
       "      <th>1</th>\n",
       "      <td>https://apps.apple.com/us/app/sudoku/id284921427</td>\n",
       "      <td>284921427</td>\n",
       "      <td>Sudoku</td>\n",
       "      <td>NaN</td>\n",
       "      <td>https://is2-ssl.mzstatic.com/image/thumb/Purpl...</td>\n",
       "      <td>4</td>\n",
       "      <td>3553</td>\n",
       "      <td>2.99</td>\n",
       "      <td>NaN</td>\n",
       "      <td>Join over 21,000,000 of our fans and download ...</td>\n",
       "      <td>Mighty Mighty Good Games</td>\n",
       "      <td>4+</td>\n",
       "      <td>DA, NL, EN, FI, FR, DE, IT, JA, KO, NB, PL, PT...</td>\n",
       "      <td>15853568</td>\n",
       "      <td>Games</td>\n",
       "      <td>Games, Strategy, Puzzle</td>\n",
       "      <td>11-07-2008</td>\n",
       "      <td>30-05-2017</td>\n",
       "    </tr>\n",
       "    <tr>\n",
       "      <th>2</th>\n",
       "      <td>https://apps.apple.com/us/app/reversi/id284926400</td>\n",
       "      <td>284926400</td>\n",
       "      <td>Reversi</td>\n",
       "      <td>NaN</td>\n",
       "      <td>https://is4-ssl.mzstatic.com/image/thumb/Purpl...</td>\n",
       "      <td>3.5</td>\n",
       "      <td>284</td>\n",
       "      <td>1.99</td>\n",
       "      <td>NaN</td>\n",
       "      <td>The classic game of Reversi, also known as Oth...</td>\n",
       "      <td>Kiss The Machine</td>\n",
       "      <td>4+</td>\n",
       "      <td>EN</td>\n",
       "      <td>12328960</td>\n",
       "      <td>Games</td>\n",
       "      <td>Games, Strategy, Board</td>\n",
       "      <td>11-07-2008</td>\n",
       "      <td>17-05-2018</td>\n",
       "    </tr>\n",
       "    <tr>\n",
       "      <th>3</th>\n",
       "      <td>https://apps.apple.com/us/app/morocco/id284946595</td>\n",
       "      <td>284946595</td>\n",
       "      <td>Morocco</td>\n",
       "      <td>NaN</td>\n",
       "      <td>https://is5-ssl.mzstatic.com/image/thumb/Purpl...</td>\n",
       "      <td>3</td>\n",
       "      <td>8376</td>\n",
       "      <td>0</td>\n",
       "      <td>NaN</td>\n",
       "      <td>Play the classic strategy game Othello (also k...</td>\n",
       "      <td>Bayou Games</td>\n",
       "      <td>4+</td>\n",
       "      <td>EN</td>\n",
       "      <td>674816</td>\n",
       "      <td>Games</td>\n",
       "      <td>Games, Board, Strategy</td>\n",
       "      <td>11-07-2008</td>\n",
       "      <td>05-09-2017</td>\n",
       "    </tr>\n",
       "  </tbody>\n",
       "</table>\n",
       "</div>"
      ],
      "text/plain": [
       "                                                 URL         ID     Name  \\\n",
       "1   https://apps.apple.com/us/app/sudoku/id284921427  284921427   Sudoku   \n",
       "2  https://apps.apple.com/us/app/reversi/id284926400  284926400  Reversi   \n",
       "3  https://apps.apple.com/us/app/morocco/id284946595  284946595  Morocco   \n",
       "\n",
       "  Subtitle                                           Icon URL  \\\n",
       "1      NaN  https://is2-ssl.mzstatic.com/image/thumb/Purpl...   \n",
       "2      NaN  https://is4-ssl.mzstatic.com/image/thumb/Purpl...   \n",
       "3      NaN  https://is5-ssl.mzstatic.com/image/thumb/Purpl...   \n",
       "\n",
       "  Average User Rating User Rating Count Price In-app Purchases  \\\n",
       "1                   4              3553  2.99              NaN   \n",
       "2                 3.5               284  1.99              NaN   \n",
       "3                   3              8376     0              NaN   \n",
       "\n",
       "                                         Description  \\\n",
       "1  Join over 21,000,000 of our fans and download ...   \n",
       "2  The classic game of Reversi, also known as Oth...   \n",
       "3  Play the classic strategy game Othello (also k...   \n",
       "\n",
       "                  Developer Age Rating  \\\n",
       "1  Mighty Mighty Good Games         4+   \n",
       "2          Kiss The Machine         4+   \n",
       "3               Bayou Games         4+   \n",
       "\n",
       "                                           Languages      Size Primary Genre  \\\n",
       "1  DA, NL, EN, FI, FR, DE, IT, JA, KO, NB, PL, PT...  15853568         Games   \n",
       "2                                                 EN  12328960         Games   \n",
       "3                                                 EN    674816         Games   \n",
       "\n",
       "                    Genres Original Release Date Current Version Release Date  \n",
       "1  Games, Strategy, Puzzle            11-07-2008                   30-05-2017  \n",
       "2   Games, Strategy, Board            11-07-2008                   17-05-2018  \n",
       "3   Games, Board, Strategy            11-07-2008                   05-09-2017  "
      ]
     },
     "execution_count": 126,
     "metadata": {},
     "output_type": "execute_result"
    }
   ],
   "source": [
    "user.head(3)"
   ]
  },
  {
   "cell_type": "code",
   "execution_count": 127,
   "metadata": {},
   "outputs": [
    {
     "data": {
      "text/html": [
       "<div>\n",
       "<style scoped>\n",
       "    .dataframe tbody tr th:only-of-type {\n",
       "        vertical-align: middle;\n",
       "    }\n",
       "\n",
       "    .dataframe tbody tr th {\n",
       "        vertical-align: top;\n",
       "    }\n",
       "\n",
       "    .dataframe thead th {\n",
       "        text-align: right;\n",
       "    }\n",
       "</style>\n",
       "<table border=\"1\" class=\"dataframe\">\n",
       "  <thead>\n",
       "    <tr style=\"text-align: right;\">\n",
       "      <th></th>\n",
       "      <th>URL</th>\n",
       "      <th>ID</th>\n",
       "      <th>Name</th>\n",
       "      <th>Subtitle</th>\n",
       "      <th>Icon URL</th>\n",
       "      <th>Avg_user_rating</th>\n",
       "      <th>URC</th>\n",
       "      <th>Price</th>\n",
       "      <th>IAP</th>\n",
       "      <th>Description</th>\n",
       "      <th>Developer</th>\n",
       "      <th>age_rating</th>\n",
       "      <th>Languages</th>\n",
       "      <th>Size</th>\n",
       "      <th>Primary Genre</th>\n",
       "      <th>Genres</th>\n",
       "      <th>release_date</th>\n",
       "      <th>CVR_Date</th>\n",
       "    </tr>\n",
       "  </thead>\n",
       "  <tbody>\n",
       "    <tr>\n",
       "      <th>1</th>\n",
       "      <td>https://apps.apple.com/us/app/sudoku/id284921427</td>\n",
       "      <td>284921427</td>\n",
       "      <td>Sudoku</td>\n",
       "      <td>NaN</td>\n",
       "      <td>https://is2-ssl.mzstatic.com/image/thumb/Purpl...</td>\n",
       "      <td>4</td>\n",
       "      <td>3553</td>\n",
       "      <td>2.99</td>\n",
       "      <td>NaN</td>\n",
       "      <td>Join over 21,000,000 of our fans and download ...</td>\n",
       "      <td>Mighty Mighty Good Games</td>\n",
       "      <td>4+</td>\n",
       "      <td>DA, NL, EN, FI, FR, DE, IT, JA, KO, NB, PL, PT...</td>\n",
       "      <td>15853568</td>\n",
       "      <td>Games</td>\n",
       "      <td>Games, Strategy, Puzzle</td>\n",
       "      <td>11-07-2008</td>\n",
       "      <td>30-05-2017</td>\n",
       "    </tr>\n",
       "    <tr>\n",
       "      <th>2</th>\n",
       "      <td>https://apps.apple.com/us/app/reversi/id284926400</td>\n",
       "      <td>284926400</td>\n",
       "      <td>Reversi</td>\n",
       "      <td>NaN</td>\n",
       "      <td>https://is4-ssl.mzstatic.com/image/thumb/Purpl...</td>\n",
       "      <td>3.5</td>\n",
       "      <td>284</td>\n",
       "      <td>1.99</td>\n",
       "      <td>NaN</td>\n",
       "      <td>The classic game of Reversi, also known as Oth...</td>\n",
       "      <td>Kiss The Machine</td>\n",
       "      <td>4+</td>\n",
       "      <td>EN</td>\n",
       "      <td>12328960</td>\n",
       "      <td>Games</td>\n",
       "      <td>Games, Strategy, Board</td>\n",
       "      <td>11-07-2008</td>\n",
       "      <td>17-05-2018</td>\n",
       "    </tr>\n",
       "    <tr>\n",
       "      <th>3</th>\n",
       "      <td>https://apps.apple.com/us/app/morocco/id284946595</td>\n",
       "      <td>284946595</td>\n",
       "      <td>Morocco</td>\n",
       "      <td>NaN</td>\n",
       "      <td>https://is5-ssl.mzstatic.com/image/thumb/Purpl...</td>\n",
       "      <td>3</td>\n",
       "      <td>8376</td>\n",
       "      <td>0</td>\n",
       "      <td>NaN</td>\n",
       "      <td>Play the classic strategy game Othello (also k...</td>\n",
       "      <td>Bayou Games</td>\n",
       "      <td>4+</td>\n",
       "      <td>EN</td>\n",
       "      <td>674816</td>\n",
       "      <td>Games</td>\n",
       "      <td>Games, Board, Strategy</td>\n",
       "      <td>11-07-2008</td>\n",
       "      <td>05-09-2017</td>\n",
       "    </tr>\n",
       "    <tr>\n",
       "      <th>4</th>\n",
       "      <td>https://apps.apple.com/us/app/sudoku-free/id28...</td>\n",
       "      <td>285755462</td>\n",
       "      <td>Sudoku (Free)</td>\n",
       "      <td>NaN</td>\n",
       "      <td>https://is3-ssl.mzstatic.com/image/thumb/Purpl...</td>\n",
       "      <td>3.5</td>\n",
       "      <td>190394</td>\n",
       "      <td>0</td>\n",
       "      <td>NaN</td>\n",
       "      <td>Top 100 free app for over a year.\\nRated \"Best...</td>\n",
       "      <td>Mighty Mighty Good Games</td>\n",
       "      <td>4+</td>\n",
       "      <td>DA, NL, EN, FI, FR, DE, IT, JA, KO, NB, PL, PT...</td>\n",
       "      <td>21552128</td>\n",
       "      <td>Games</td>\n",
       "      <td>Games, Strategy, Puzzle</td>\n",
       "      <td>23-07-2008</td>\n",
       "      <td>30-05-2017</td>\n",
       "    </tr>\n",
       "    <tr>\n",
       "      <th>5</th>\n",
       "      <td>https://apps.apple.com/us/app/senet-deluxe/id2...</td>\n",
       "      <td>285831220</td>\n",
       "      <td>Senet Deluxe</td>\n",
       "      <td>NaN</td>\n",
       "      <td>https://is1-ssl.mzstatic.com/image/thumb/Purpl...</td>\n",
       "      <td>3.5</td>\n",
       "      <td>28</td>\n",
       "      <td>2.99</td>\n",
       "      <td>NaN</td>\n",
       "      <td>\"Senet Deluxe - The Ancient Game of Life and A...</td>\n",
       "      <td>RoGame Software</td>\n",
       "      <td>4+</td>\n",
       "      <td>DA, NL, EN, FR, DE, EL, IT, JA, KO, NO, PT, RU...</td>\n",
       "      <td>34689024</td>\n",
       "      <td>Games</td>\n",
       "      <td>Games, Strategy, Board, Education</td>\n",
       "      <td>18-07-2008</td>\n",
       "      <td>22-07-2018</td>\n",
       "    </tr>\n",
       "  </tbody>\n",
       "</table>\n",
       "</div>"
      ],
      "text/plain": [
       "                                                 URL         ID  \\\n",
       "1   https://apps.apple.com/us/app/sudoku/id284921427  284921427   \n",
       "2  https://apps.apple.com/us/app/reversi/id284926400  284926400   \n",
       "3  https://apps.apple.com/us/app/morocco/id284946595  284946595   \n",
       "4  https://apps.apple.com/us/app/sudoku-free/id28...  285755462   \n",
       "5  https://apps.apple.com/us/app/senet-deluxe/id2...  285831220   \n",
       "\n",
       "            Name Subtitle                                           Icon URL  \\\n",
       "1         Sudoku      NaN  https://is2-ssl.mzstatic.com/image/thumb/Purpl...   \n",
       "2        Reversi      NaN  https://is4-ssl.mzstatic.com/image/thumb/Purpl...   \n",
       "3        Morocco      NaN  https://is5-ssl.mzstatic.com/image/thumb/Purpl...   \n",
       "4  Sudoku (Free)      NaN  https://is3-ssl.mzstatic.com/image/thumb/Purpl...   \n",
       "5   Senet Deluxe      NaN  https://is1-ssl.mzstatic.com/image/thumb/Purpl...   \n",
       "\n",
       "  Avg_user_rating     URC Price  IAP  \\\n",
       "1               4    3553  2.99  NaN   \n",
       "2             3.5     284  1.99  NaN   \n",
       "3               3    8376     0  NaN   \n",
       "4             3.5  190394     0  NaN   \n",
       "5             3.5      28  2.99  NaN   \n",
       "\n",
       "                                         Description  \\\n",
       "1  Join over 21,000,000 of our fans and download ...   \n",
       "2  The classic game of Reversi, also known as Oth...   \n",
       "3  Play the classic strategy game Othello (also k...   \n",
       "4  Top 100 free app for over a year.\\nRated \"Best...   \n",
       "5  \"Senet Deluxe - The Ancient Game of Life and A...   \n",
       "\n",
       "                  Developer age_rating  \\\n",
       "1  Mighty Mighty Good Games         4+   \n",
       "2          Kiss The Machine         4+   \n",
       "3               Bayou Games         4+   \n",
       "4  Mighty Mighty Good Games         4+   \n",
       "5           RoGame Software         4+   \n",
       "\n",
       "                                           Languages      Size Primary Genre  \\\n",
       "1  DA, NL, EN, FI, FR, DE, IT, JA, KO, NB, PL, PT...  15853568         Games   \n",
       "2                                                 EN  12328960         Games   \n",
       "3                                                 EN    674816         Games   \n",
       "4  DA, NL, EN, FI, FR, DE, IT, JA, KO, NB, PL, PT...  21552128         Games   \n",
       "5  DA, NL, EN, FR, DE, EL, IT, JA, KO, NO, PT, RU...  34689024         Games   \n",
       "\n",
       "                              Genres release_date    CVR_Date  \n",
       "1            Games, Strategy, Puzzle   11-07-2008  30-05-2017  \n",
       "2             Games, Strategy, Board   11-07-2008  17-05-2018  \n",
       "3             Games, Board, Strategy   11-07-2008  05-09-2017  \n",
       "4            Games, Strategy, Puzzle   23-07-2008  30-05-2017  \n",
       "5  Games, Strategy, Board, Education   18-07-2008  22-07-2018  "
      ]
     },
     "execution_count": 127,
     "metadata": {},
     "output_type": "execute_result"
    }
   ],
   "source": [
    "user.rename(columns={\"Average User Rating\":\"Avg_user_rating\",'In-app Purchases':'IAP','Current Version Release Date':'CVR_Date','User Rating Count':'URC','Original Release Date':'release_date','Age Rating':'age_rating'},inplace=True)\n",
    "user.head()"
   ]
  },
  {
   "cell_type": "code",
   "execution_count": 128,
   "metadata": {},
   "outputs": [
    {
     "data": {
      "text/html": [
       "<div>\n",
       "<style scoped>\n",
       "    .dataframe tbody tr th:only-of-type {\n",
       "        vertical-align: middle;\n",
       "    }\n",
       "\n",
       "    .dataframe tbody tr th {\n",
       "        vertical-align: top;\n",
       "    }\n",
       "\n",
       "    .dataframe thead th {\n",
       "        text-align: right;\n",
       "    }\n",
       "</style>\n",
       "<table border=\"1\" class=\"dataframe\">\n",
       "  <thead>\n",
       "    <tr style=\"text-align: right;\">\n",
       "      <th></th>\n",
       "      <th>ID</th>\n",
       "      <th>Name</th>\n",
       "      <th>Icon URL</th>\n",
       "      <th>Avg_user_rating</th>\n",
       "      <th>URC</th>\n",
       "      <th>Price</th>\n",
       "      <th>IAP</th>\n",
       "      <th>Description</th>\n",
       "      <th>Developer</th>\n",
       "      <th>age_rating</th>\n",
       "      <th>Size</th>\n",
       "      <th>Genres</th>\n",
       "      <th>release_date</th>\n",
       "      <th>CVR_Date</th>\n",
       "    </tr>\n",
       "  </thead>\n",
       "  <tbody>\n",
       "    <tr>\n",
       "      <th>1</th>\n",
       "      <td>284921427</td>\n",
       "      <td>Sudoku</td>\n",
       "      <td>https://is2-ssl.mzstatic.com/image/thumb/Purpl...</td>\n",
       "      <td>4</td>\n",
       "      <td>3553</td>\n",
       "      <td>2.99</td>\n",
       "      <td>NaN</td>\n",
       "      <td>Join over 21,000,000 of our fans and download ...</td>\n",
       "      <td>Mighty Mighty Good Games</td>\n",
       "      <td>4+</td>\n",
       "      <td>15853568</td>\n",
       "      <td>Games, Strategy, Puzzle</td>\n",
       "      <td>11-07-2008</td>\n",
       "      <td>30-05-2017</td>\n",
       "    </tr>\n",
       "    <tr>\n",
       "      <th>2</th>\n",
       "      <td>284926400</td>\n",
       "      <td>Reversi</td>\n",
       "      <td>https://is4-ssl.mzstatic.com/image/thumb/Purpl...</td>\n",
       "      <td>3.5</td>\n",
       "      <td>284</td>\n",
       "      <td>1.99</td>\n",
       "      <td>NaN</td>\n",
       "      <td>The classic game of Reversi, also known as Oth...</td>\n",
       "      <td>Kiss The Machine</td>\n",
       "      <td>4+</td>\n",
       "      <td>12328960</td>\n",
       "      <td>Games, Strategy, Board</td>\n",
       "      <td>11-07-2008</td>\n",
       "      <td>17-05-2018</td>\n",
       "    </tr>\n",
       "    <tr>\n",
       "      <th>3</th>\n",
       "      <td>284946595</td>\n",
       "      <td>Morocco</td>\n",
       "      <td>https://is5-ssl.mzstatic.com/image/thumb/Purpl...</td>\n",
       "      <td>3</td>\n",
       "      <td>8376</td>\n",
       "      <td>0</td>\n",
       "      <td>NaN</td>\n",
       "      <td>Play the classic strategy game Othello (also k...</td>\n",
       "      <td>Bayou Games</td>\n",
       "      <td>4+</td>\n",
       "      <td>674816</td>\n",
       "      <td>Games, Board, Strategy</td>\n",
       "      <td>11-07-2008</td>\n",
       "      <td>05-09-2017</td>\n",
       "    </tr>\n",
       "    <tr>\n",
       "      <th>4</th>\n",
       "      <td>285755462</td>\n",
       "      <td>Sudoku (Free)</td>\n",
       "      <td>https://is3-ssl.mzstatic.com/image/thumb/Purpl...</td>\n",
       "      <td>3.5</td>\n",
       "      <td>190394</td>\n",
       "      <td>0</td>\n",
       "      <td>NaN</td>\n",
       "      <td>Top 100 free app for over a year.\\nRated \"Best...</td>\n",
       "      <td>Mighty Mighty Good Games</td>\n",
       "      <td>4+</td>\n",
       "      <td>21552128</td>\n",
       "      <td>Games, Strategy, Puzzle</td>\n",
       "      <td>23-07-2008</td>\n",
       "      <td>30-05-2017</td>\n",
       "    </tr>\n",
       "    <tr>\n",
       "      <th>5</th>\n",
       "      <td>285831220</td>\n",
       "      <td>Senet Deluxe</td>\n",
       "      <td>https://is1-ssl.mzstatic.com/image/thumb/Purpl...</td>\n",
       "      <td>3.5</td>\n",
       "      <td>28</td>\n",
       "      <td>2.99</td>\n",
       "      <td>NaN</td>\n",
       "      <td>\"Senet Deluxe - The Ancient Game of Life and A...</td>\n",
       "      <td>RoGame Software</td>\n",
       "      <td>4+</td>\n",
       "      <td>34689024</td>\n",
       "      <td>Games, Strategy, Board, Education</td>\n",
       "      <td>18-07-2008</td>\n",
       "      <td>22-07-2018</td>\n",
       "    </tr>\n",
       "  </tbody>\n",
       "</table>\n",
       "</div>"
      ],
      "text/plain": [
       "          ID           Name  \\\n",
       "1  284921427         Sudoku   \n",
       "2  284926400        Reversi   \n",
       "3  284946595        Morocco   \n",
       "4  285755462  Sudoku (Free)   \n",
       "5  285831220   Senet Deluxe   \n",
       "\n",
       "                                            Icon URL Avg_user_rating     URC  \\\n",
       "1  https://is2-ssl.mzstatic.com/image/thumb/Purpl...               4    3553   \n",
       "2  https://is4-ssl.mzstatic.com/image/thumb/Purpl...             3.5     284   \n",
       "3  https://is5-ssl.mzstatic.com/image/thumb/Purpl...               3    8376   \n",
       "4  https://is3-ssl.mzstatic.com/image/thumb/Purpl...             3.5  190394   \n",
       "5  https://is1-ssl.mzstatic.com/image/thumb/Purpl...             3.5      28   \n",
       "\n",
       "  Price  IAP                                        Description  \\\n",
       "1  2.99  NaN  Join over 21,000,000 of our fans and download ...   \n",
       "2  1.99  NaN  The classic game of Reversi, also known as Oth...   \n",
       "3     0  NaN  Play the classic strategy game Othello (also k...   \n",
       "4     0  NaN  Top 100 free app for over a year.\\nRated \"Best...   \n",
       "5  2.99  NaN  \"Senet Deluxe - The Ancient Game of Life and A...   \n",
       "\n",
       "                  Developer age_rating      Size  \\\n",
       "1  Mighty Mighty Good Games         4+  15853568   \n",
       "2          Kiss The Machine         4+  12328960   \n",
       "3               Bayou Games         4+    674816   \n",
       "4  Mighty Mighty Good Games         4+  21552128   \n",
       "5           RoGame Software         4+  34689024   \n",
       "\n",
       "                              Genres release_date    CVR_Date  \n",
       "1            Games, Strategy, Puzzle   11-07-2008  30-05-2017  \n",
       "2             Games, Strategy, Board   11-07-2008  17-05-2018  \n",
       "3             Games, Board, Strategy   11-07-2008  05-09-2017  \n",
       "4            Games, Strategy, Puzzle   23-07-2008  30-05-2017  \n",
       "5  Games, Strategy, Board, Education   18-07-2008  22-07-2018  "
      ]
     },
     "execution_count": 128,
     "metadata": {},
     "output_type": "execute_result"
    }
   ],
   "source": [
    "#drop unused columns\n",
    "user.drop(['URL','Primary Genre','Subtitle','Languages'], axis=1, inplace=True)\n",
    "user.head()"
   ]
  },
  {
   "cell_type": "code",
   "execution_count": 129,
   "metadata": {},
   "outputs": [
    {
     "data": {
      "text/plain": [
       "ID                    0\n",
       "Name                  0\n",
       "Icon URL              0\n",
       "Avg_user_rating    9446\n",
       "URC                9446\n",
       "Price                24\n",
       "IAP                9324\n",
       "Description           0\n",
       "Developer             0\n",
       "age_rating            0\n",
       "Size                  1\n",
       "Genres                0\n",
       "release_date          0\n",
       "CVR_Date              0\n",
       "dtype: int64"
      ]
     },
     "execution_count": 129,
     "metadata": {},
     "output_type": "execute_result"
    }
   ],
   "source": [
    "#total count of null values in the columns\n",
    "user.isnull().sum()"
   ]
  },
  {
   "cell_type": "markdown",
   "metadata": {},
   "source": [
    "# Games without User Rating should be dropped."
   ]
  },
  {
   "cell_type": "code",
   "execution_count": 130,
   "metadata": {},
   "outputs": [],
   "source": [
    "#droping null values in average user rating\n",
    "user.dropna(subset=['Avg_user_rating'], how='any',inplace=True)"
   ]
  },
  {
   "cell_type": "code",
   "execution_count": 131,
   "metadata": {},
   "outputs": [
    {
     "data": {
      "text/plain": [
       "ID                    0\n",
       "Name                  0\n",
       "Icon URL              0\n",
       "Avg_user_rating       0\n",
       "URC                   0\n",
       "Price                 0\n",
       "IAP                2927\n",
       "Description           0\n",
       "Developer             0\n",
       "age_rating            0\n",
       "Size                  0\n",
       "Genres                0\n",
       "release_date          0\n",
       "CVR_Date              0\n",
       "dtype: int64"
      ]
     },
     "execution_count": 131,
     "metadata": {},
     "output_type": "execute_result"
    }
   ],
   "source": [
    "user.isnull().sum()"
   ]
  },
  {
   "cell_type": "code",
   "execution_count": 132,
   "metadata": {},
   "outputs": [
    {
     "data": {
      "text/plain": [
       "(7561, 14)"
      ]
     },
     "execution_count": 132,
     "metadata": {},
     "output_type": "execute_result"
    }
   ],
   "source": [
    "user.shape"
   ]
  },
  {
   "cell_type": "code",
   "execution_count": 133,
   "metadata": {},
   "outputs": [
    {
     "data": {
      "text/plain": [
       "ID                 object\n",
       "Name               object\n",
       "Icon URL           object\n",
       "Avg_user_rating    object\n",
       "URC                object\n",
       "Price              object\n",
       "IAP                object\n",
       "Description        object\n",
       "Developer          object\n",
       "age_rating         object\n",
       "Size               object\n",
       "Genres             object\n",
       "release_date       object\n",
       "CVR_Date           object\n",
       "dtype: object"
      ]
     },
     "execution_count": 133,
     "metadata": {},
     "output_type": "execute_result"
    }
   ],
   "source": [
    "user.dtypes"
   ]
  },
  {
   "cell_type": "markdown",
   "metadata": {},
   "source": [
    "# Games with less than 200 user rating and days since last update date is less than6month are dropped to prevent biased ratings from the developer."
   ]
  },
  {
   "cell_type": "code",
   "execution_count": 134,
   "metadata": {},
   "outputs": [],
   "source": [
    "#converting data strings to datetime objects\n",
    "user['release_date']=pd.to_datetime(user.release_date)\n",
    "user['CVR_Date']=pd.to_datetime(user.CVR_Date)\n"
   ]
  },
  {
   "cell_type": "code",
   "execution_count": 135,
   "metadata": {},
   "outputs": [],
   "source": [
    "#new column for time gap between release & update dates\n",
    "user['update_date']=user.CVR_Date-user.release_date"
   ]
  },
  {
   "cell_type": "code",
   "execution_count": 136,
   "metadata": {},
   "outputs": [
    {
     "data": {
      "text/plain": [
       "(5060, 15)"
      ]
     },
     "execution_count": 136,
     "metadata": {},
     "output_type": "execute_result"
    }
   ],
   "source": [
    "#to prevent biased ratings,drop games that has rating less than 200 user rating count & release date to update date less than 6 months(i.e 180 days)\n",
    "import datetime \n",
    "from datetime import timedelta\n",
    "user.drop((user[pd.to_numeric(user['URC']) < 200].index) & (user[user.update_date < datetime.timedelta(days=175)].index),inplace=True)\n",
    "user.shape"
   ]
  },
  {
   "cell_type": "code",
   "execution_count": 137,
   "metadata": {},
   "outputs": [
    {
     "data": {
      "text/html": [
       "<div>\n",
       "<style scoped>\n",
       "    .dataframe tbody tr th:only-of-type {\n",
       "        vertical-align: middle;\n",
       "    }\n",
       "\n",
       "    .dataframe tbody tr th {\n",
       "        vertical-align: top;\n",
       "    }\n",
       "\n",
       "    .dataframe thead th {\n",
       "        text-align: right;\n",
       "    }\n",
       "</style>\n",
       "<table border=\"1\" class=\"dataframe\">\n",
       "  <thead>\n",
       "    <tr style=\"text-align: right;\">\n",
       "      <th></th>\n",
       "      <th>ID</th>\n",
       "      <th>Name</th>\n",
       "      <th>Icon URL</th>\n",
       "      <th>Avg_user_rating</th>\n",
       "      <th>URC</th>\n",
       "      <th>Price</th>\n",
       "      <th>IAP</th>\n",
       "      <th>Description</th>\n",
       "      <th>Developer</th>\n",
       "      <th>age_rating</th>\n",
       "      <th>Size</th>\n",
       "      <th>Genres</th>\n",
       "      <th>release_date</th>\n",
       "      <th>CVR_Date</th>\n",
       "      <th>update_date</th>\n",
       "    </tr>\n",
       "  </thead>\n",
       "  <tbody>\n",
       "    <tr>\n",
       "      <th>1</th>\n",
       "      <td>284921427</td>\n",
       "      <td>Sudoku</td>\n",
       "      <td>https://is2-ssl.mzstatic.com/image/thumb/Purpl...</td>\n",
       "      <td>4</td>\n",
       "      <td>3553</td>\n",
       "      <td>2.99</td>\n",
       "      <td>NaN</td>\n",
       "      <td>Join over 21,000,000 of our fans and download ...</td>\n",
       "      <td>Mighty Mighty Good Games</td>\n",
       "      <td>4+</td>\n",
       "      <td>15853568</td>\n",
       "      <td>Games, Strategy, Puzzle</td>\n",
       "      <td>2008-11-07</td>\n",
       "      <td>2017-05-30</td>\n",
       "      <td>3126 days</td>\n",
       "    </tr>\n",
       "    <tr>\n",
       "      <th>2</th>\n",
       "      <td>284926400</td>\n",
       "      <td>Reversi</td>\n",
       "      <td>https://is4-ssl.mzstatic.com/image/thumb/Purpl...</td>\n",
       "      <td>3.5</td>\n",
       "      <td>284</td>\n",
       "      <td>1.99</td>\n",
       "      <td>NaN</td>\n",
       "      <td>The classic game of Reversi, also known as Oth...</td>\n",
       "      <td>Kiss The Machine</td>\n",
       "      <td>4+</td>\n",
       "      <td>12328960</td>\n",
       "      <td>Games, Strategy, Board</td>\n",
       "      <td>2008-11-07</td>\n",
       "      <td>2018-05-17</td>\n",
       "      <td>3478 days</td>\n",
       "    </tr>\n",
       "    <tr>\n",
       "      <th>3</th>\n",
       "      <td>284946595</td>\n",
       "      <td>Morocco</td>\n",
       "      <td>https://is5-ssl.mzstatic.com/image/thumb/Purpl...</td>\n",
       "      <td>3</td>\n",
       "      <td>8376</td>\n",
       "      <td>0</td>\n",
       "      <td>NaN</td>\n",
       "      <td>Play the classic strategy game Othello (also k...</td>\n",
       "      <td>Bayou Games</td>\n",
       "      <td>4+</td>\n",
       "      <td>674816</td>\n",
       "      <td>Games, Board, Strategy</td>\n",
       "      <td>2008-11-07</td>\n",
       "      <td>2017-05-09</td>\n",
       "      <td>3105 days</td>\n",
       "    </tr>\n",
       "    <tr>\n",
       "      <th>4</th>\n",
       "      <td>285755462</td>\n",
       "      <td>Sudoku (Free)</td>\n",
       "      <td>https://is3-ssl.mzstatic.com/image/thumb/Purpl...</td>\n",
       "      <td>3.5</td>\n",
       "      <td>190394</td>\n",
       "      <td>0</td>\n",
       "      <td>NaN</td>\n",
       "      <td>Top 100 free app for over a year.\\nRated \"Best...</td>\n",
       "      <td>Mighty Mighty Good Games</td>\n",
       "      <td>4+</td>\n",
       "      <td>21552128</td>\n",
       "      <td>Games, Strategy, Puzzle</td>\n",
       "      <td>2008-07-23</td>\n",
       "      <td>2017-05-30</td>\n",
       "      <td>3233 days</td>\n",
       "    </tr>\n",
       "    <tr>\n",
       "      <th>5</th>\n",
       "      <td>285831220</td>\n",
       "      <td>Senet Deluxe</td>\n",
       "      <td>https://is1-ssl.mzstatic.com/image/thumb/Purpl...</td>\n",
       "      <td>3.5</td>\n",
       "      <td>28</td>\n",
       "      <td>2.99</td>\n",
       "      <td>NaN</td>\n",
       "      <td>\"Senet Deluxe - The Ancient Game of Life and A...</td>\n",
       "      <td>RoGame Software</td>\n",
       "      <td>4+</td>\n",
       "      <td>34689024</td>\n",
       "      <td>Games, Strategy, Board, Education</td>\n",
       "      <td>2008-07-18</td>\n",
       "      <td>2018-07-22</td>\n",
       "      <td>3656 days</td>\n",
       "    </tr>\n",
       "  </tbody>\n",
       "</table>\n",
       "</div>"
      ],
      "text/plain": [
       "          ID           Name  \\\n",
       "1  284921427         Sudoku   \n",
       "2  284926400        Reversi   \n",
       "3  284946595        Morocco   \n",
       "4  285755462  Sudoku (Free)   \n",
       "5  285831220   Senet Deluxe   \n",
       "\n",
       "                                            Icon URL Avg_user_rating     URC  \\\n",
       "1  https://is2-ssl.mzstatic.com/image/thumb/Purpl...               4    3553   \n",
       "2  https://is4-ssl.mzstatic.com/image/thumb/Purpl...             3.5     284   \n",
       "3  https://is5-ssl.mzstatic.com/image/thumb/Purpl...               3    8376   \n",
       "4  https://is3-ssl.mzstatic.com/image/thumb/Purpl...             3.5  190394   \n",
       "5  https://is1-ssl.mzstatic.com/image/thumb/Purpl...             3.5      28   \n",
       "\n",
       "  Price  IAP                                        Description  \\\n",
       "1  2.99  NaN  Join over 21,000,000 of our fans and download ...   \n",
       "2  1.99  NaN  The classic game of Reversi, also known as Oth...   \n",
       "3     0  NaN  Play the classic strategy game Othello (also k...   \n",
       "4     0  NaN  Top 100 free app for over a year.\\nRated \"Best...   \n",
       "5  2.99  NaN  \"Senet Deluxe - The Ancient Game of Life and A...   \n",
       "\n",
       "                  Developer age_rating      Size  \\\n",
       "1  Mighty Mighty Good Games         4+  15853568   \n",
       "2          Kiss The Machine         4+  12328960   \n",
       "3               Bayou Games         4+    674816   \n",
       "4  Mighty Mighty Good Games         4+  21552128   \n",
       "5           RoGame Software         4+  34689024   \n",
       "\n",
       "                              Genres release_date   CVR_Date update_date  \n",
       "1            Games, Strategy, Puzzle   2008-11-07 2017-05-30   3126 days  \n",
       "2             Games, Strategy, Board   2008-11-07 2018-05-17   3478 days  \n",
       "3             Games, Board, Strategy   2008-11-07 2017-05-09   3105 days  \n",
       "4            Games, Strategy, Puzzle   2008-07-23 2017-05-30   3233 days  \n",
       "5  Games, Strategy, Board, Education   2008-07-18 2018-07-22   3656 days  "
      ]
     },
     "execution_count": 137,
     "metadata": {},
     "output_type": "execute_result"
    }
   ],
   "source": [
    "user.head()"
   ]
  },
  {
   "cell_type": "markdown",
   "metadata": {},
   "source": [
    "# Genre tags \"Entertainment\" and \"Games\" are removed from the Genre string as it does not provide meaningful insight because every game has these tags."
   ]
  },
  {
   "cell_type": "code",
   "execution_count": 138,
   "metadata": {},
   "outputs": [],
   "source": [
    "#removing Games & Entertainment from genre string\n",
    "\n",
    "user['Genres']=user['Genres'].str.replace(',','').str.replace('Games','').str.replace('Entertainment','').str.replace('Strategy','')\n"
   ]
  },
  {
   "cell_type": "markdown",
   "metadata": {},
   "source": [
    "# The remaining string is checked and grouped as follows:\n",
    "**1)Puzzle= Puzzle/Board\n",
    "2)Adventure= Adventure/Role/Role Playing\n",
    "3)Action = Action\n",
    "4)Family = Family/Education "
   ]
  },
  {
   "cell_type": "code",
   "execution_count": 139,
   "metadata": {},
   "outputs": [],
   "source": [
    "#the remaining strings are grouped as : 1) puzzle=puzzle/board ,2) adventure =adverture/role/role playing ,3) action=action,4)family= family/education\n",
    "user['Genres'] = user['Genres'].str.split(' ').map(lambda x: ' '.join(sorted(x)))\n",
    "user['Genres']= user['Genres'].str.strip()\n",
    "\n",
    "user.loc[user['Genres'].str.contains('Puzzle'),'Genres'] = 'Puzzle'\n",
    "user.loc[user['Genres'].str.contains('Board'),'Genres'] = 'Puzzle'\n",
    "user.loc[user['Genres'].str.contains('Action'),'Genres'] = 'Action'\n",
    "user.loc[user['Genres'].str.contains('Adventure'),'Genres'] = 'Adventure'\n",
    "user.loc[user['Genres'].str.contains('Role'),'Genres'] = 'Adventure'\n",
    "user.loc[user['Genres'].str.contains('Role Playing'),'Genres'] = 'Adventure'\n",
    "user.loc[user['Genres'].str.contains('Family'),'Genres'] = 'Family'\n",
    "user.loc[user['Genres'].str.contains('Education'),'Genres'] = 'Family'\n",
    "\n"
   ]
  },
  {
   "cell_type": "code",
   "execution_count": 140,
   "metadata": {},
   "outputs": [
    {
     "data": {
      "text/html": [
       "<div>\n",
       "<style scoped>\n",
       "    .dataframe tbody tr th:only-of-type {\n",
       "        vertical-align: middle;\n",
       "    }\n",
       "\n",
       "    .dataframe tbody tr th {\n",
       "        vertical-align: top;\n",
       "    }\n",
       "\n",
       "    .dataframe thead th {\n",
       "        text-align: right;\n",
       "    }\n",
       "</style>\n",
       "<table border=\"1\" class=\"dataframe\">\n",
       "  <thead>\n",
       "    <tr style=\"text-align: right;\">\n",
       "      <th></th>\n",
       "      <th>ID</th>\n",
       "      <th>Name</th>\n",
       "      <th>Icon URL</th>\n",
       "      <th>Avg_user_rating</th>\n",
       "      <th>URC</th>\n",
       "      <th>Price</th>\n",
       "      <th>IAP</th>\n",
       "      <th>Description</th>\n",
       "      <th>Developer</th>\n",
       "      <th>age_rating</th>\n",
       "      <th>Size</th>\n",
       "      <th>Genres</th>\n",
       "      <th>release_date</th>\n",
       "      <th>CVR_Date</th>\n",
       "      <th>update_date</th>\n",
       "    </tr>\n",
       "  </thead>\n",
       "  <tbody>\n",
       "    <tr>\n",
       "      <th>1</th>\n",
       "      <td>284921427</td>\n",
       "      <td>Sudoku</td>\n",
       "      <td>https://is2-ssl.mzstatic.com/image/thumb/Purpl...</td>\n",
       "      <td>4</td>\n",
       "      <td>3553</td>\n",
       "      <td>2.99</td>\n",
       "      <td>NaN</td>\n",
       "      <td>Join over 21,000,000 of our fans and download ...</td>\n",
       "      <td>Mighty Mighty Good Games</td>\n",
       "      <td>4+</td>\n",
       "      <td>15853568</td>\n",
       "      <td>Puzzle</td>\n",
       "      <td>2008-11-07</td>\n",
       "      <td>2017-05-30</td>\n",
       "      <td>3126 days</td>\n",
       "    </tr>\n",
       "    <tr>\n",
       "      <th>2</th>\n",
       "      <td>284926400</td>\n",
       "      <td>Reversi</td>\n",
       "      <td>https://is4-ssl.mzstatic.com/image/thumb/Purpl...</td>\n",
       "      <td>3.5</td>\n",
       "      <td>284</td>\n",
       "      <td>1.99</td>\n",
       "      <td>NaN</td>\n",
       "      <td>The classic game of Reversi, also known as Oth...</td>\n",
       "      <td>Kiss The Machine</td>\n",
       "      <td>4+</td>\n",
       "      <td>12328960</td>\n",
       "      <td>Puzzle</td>\n",
       "      <td>2008-11-07</td>\n",
       "      <td>2018-05-17</td>\n",
       "      <td>3478 days</td>\n",
       "    </tr>\n",
       "    <tr>\n",
       "      <th>3</th>\n",
       "      <td>284946595</td>\n",
       "      <td>Morocco</td>\n",
       "      <td>https://is5-ssl.mzstatic.com/image/thumb/Purpl...</td>\n",
       "      <td>3</td>\n",
       "      <td>8376</td>\n",
       "      <td>0</td>\n",
       "      <td>NaN</td>\n",
       "      <td>Play the classic strategy game Othello (also k...</td>\n",
       "      <td>Bayou Games</td>\n",
       "      <td>4+</td>\n",
       "      <td>674816</td>\n",
       "      <td>Puzzle</td>\n",
       "      <td>2008-11-07</td>\n",
       "      <td>2017-05-09</td>\n",
       "      <td>3105 days</td>\n",
       "    </tr>\n",
       "    <tr>\n",
       "      <th>4</th>\n",
       "      <td>285755462</td>\n",
       "      <td>Sudoku (Free)</td>\n",
       "      <td>https://is3-ssl.mzstatic.com/image/thumb/Purpl...</td>\n",
       "      <td>3.5</td>\n",
       "      <td>190394</td>\n",
       "      <td>0</td>\n",
       "      <td>NaN</td>\n",
       "      <td>Top 100 free app for over a year.\\nRated \"Best...</td>\n",
       "      <td>Mighty Mighty Good Games</td>\n",
       "      <td>4+</td>\n",
       "      <td>21552128</td>\n",
       "      <td>Puzzle</td>\n",
       "      <td>2008-07-23</td>\n",
       "      <td>2017-05-30</td>\n",
       "      <td>3233 days</td>\n",
       "    </tr>\n",
       "    <tr>\n",
       "      <th>5</th>\n",
       "      <td>285831220</td>\n",
       "      <td>Senet Deluxe</td>\n",
       "      <td>https://is1-ssl.mzstatic.com/image/thumb/Purpl...</td>\n",
       "      <td>3.5</td>\n",
       "      <td>28</td>\n",
       "      <td>2.99</td>\n",
       "      <td>NaN</td>\n",
       "      <td>\"Senet Deluxe - The Ancient Game of Life and A...</td>\n",
       "      <td>RoGame Software</td>\n",
       "      <td>4+</td>\n",
       "      <td>34689024</td>\n",
       "      <td>Puzzle</td>\n",
       "      <td>2008-07-18</td>\n",
       "      <td>2018-07-22</td>\n",
       "      <td>3656 days</td>\n",
       "    </tr>\n",
       "    <tr>\n",
       "      <th>...</th>\n",
       "      <td>...</td>\n",
       "      <td>...</td>\n",
       "      <td>...</td>\n",
       "      <td>...</td>\n",
       "      <td>...</td>\n",
       "      <td>...</td>\n",
       "      <td>...</td>\n",
       "      <td>...</td>\n",
       "      <td>...</td>\n",
       "      <td>...</td>\n",
       "      <td>...</td>\n",
       "      <td>...</td>\n",
       "      <td>...</td>\n",
       "      <td>...</td>\n",
       "      <td>...</td>\n",
       "    </tr>\n",
       "    <tr>\n",
       "      <th>16695</th>\n",
       "      <td>1466039701</td>\n",
       "      <td>Smash Brickz Pro</td>\n",
       "      <td>https://is4-ssl.mzstatic.com/image/thumb/Purpl...</td>\n",
       "      <td>4.5</td>\n",
       "      <td>354</td>\n",
       "      <td>0</td>\n",
       "      <td>9.99, 4.99, 4.99, 2.99, 9.99, 0.99, 1.99, 2.99...</td>\n",
       "      <td>\"Unwind with this classic breakout game! Smash...</td>\n",
       "      <td>Hong Kong JoyTap Limited</td>\n",
       "      <td>4+</td>\n",
       "      <td>211398656</td>\n",
       "      <td>Puzzle</td>\n",
       "      <td>2019-11-06</td>\n",
       "      <td>2019-07-28</td>\n",
       "      <td>-101 days</td>\n",
       "    </tr>\n",
       "    <tr>\n",
       "      <th>16719</th>\n",
       "      <td>1466637212</td>\n",
       "      <td>Car Wash Empire</td>\n",
       "      <td>https://is1-ssl.mzstatic.com/image/thumb/Purpl...</td>\n",
       "      <td>5</td>\n",
       "      <td>658</td>\n",
       "      <td>0</td>\n",
       "      <td>2.99</td>\n",
       "      <td>Do you think you have what it takes to become ...</td>\n",
       "      <td>Ksenia Aprelkova</td>\n",
       "      <td>4+</td>\n",
       "      <td>206372864</td>\n",
       "      <td>Puzzle</td>\n",
       "      <td>2019-05-06</td>\n",
       "      <td>2019-07-30</td>\n",
       "      <td>85 days</td>\n",
       "    </tr>\n",
       "    <tr>\n",
       "      <th>16725</th>\n",
       "      <td>1466987107</td>\n",
       "      <td>Idle Zoo Tycoon 3D</td>\n",
       "      <td>https://is4-ssl.mzstatic.com/image/thumb/Purpl...</td>\n",
       "      <td>4.5</td>\n",
       "      <td>1197</td>\n",
       "      <td>0</td>\n",
       "      <td>NaN</td>\n",
       "      <td>Are you ready to manage the zoo of your dreams...</td>\n",
       "      <td>Marine Parker</td>\n",
       "      <td>12+</td>\n",
       "      <td>131396608</td>\n",
       "      <td>Action</td>\n",
       "      <td>2019-03-07</td>\n",
       "      <td>2019-01-08</td>\n",
       "      <td>-58 days</td>\n",
       "    </tr>\n",
       "    <tr>\n",
       "      <th>16730</th>\n",
       "      <td>1467166549</td>\n",
       "      <td>OG West</td>\n",
       "      <td>https://is4-ssl.mzstatic.com/image/thumb/Purpl...</td>\n",
       "      <td>5</td>\n",
       "      <td>267</td>\n",
       "      <td>0</td>\n",
       "      <td>0.99, 4.99, 19.99, 9.99, 24.99, 2.99, 1.99, 99...</td>\n",
       "      <td>Ready to live as an original gangster in the o...</td>\n",
       "      <td>Star Ring Game Limited</td>\n",
       "      <td>12+</td>\n",
       "      <td>282842112</td>\n",
       "      <td>Simulation</td>\n",
       "      <td>2019-06-18</td>\n",
       "      <td>2019-03-08</td>\n",
       "      <td>-102 days</td>\n",
       "    </tr>\n",
       "    <tr>\n",
       "      <th>16875</th>\n",
       "      <td>1471336822</td>\n",
       "      <td>Idle Waterpark 3D Fun Aquapark</td>\n",
       "      <td>https://is5-ssl.mzstatic.com/image/thumb/Purpl...</td>\n",
       "      <td>5</td>\n",
       "      <td>201</td>\n",
       "      <td>0</td>\n",
       "      <td>NaN</td>\n",
       "      <td>Build your own Waterpark and expand your busin...</td>\n",
       "      <td>Regina Gallander</td>\n",
       "      <td>4+</td>\n",
       "      <td>325653504</td>\n",
       "      <td>Simulation</td>\n",
       "      <td>2019-02-08</td>\n",
       "      <td>2019-02-08</td>\n",
       "      <td>0 days</td>\n",
       "    </tr>\n",
       "  </tbody>\n",
       "</table>\n",
       "<p>5060 rows × 15 columns</p>\n",
       "</div>"
      ],
      "text/plain": [
       "               ID                            Name  \\\n",
       "1       284921427                          Sudoku   \n",
       "2       284926400                         Reversi   \n",
       "3       284946595                         Morocco   \n",
       "4       285755462                   Sudoku (Free)   \n",
       "5       285831220                    Senet Deluxe   \n",
       "...           ...                             ...   \n",
       "16695  1466039701                Smash Brickz Pro   \n",
       "16719  1466637212                 Car Wash Empire   \n",
       "16725  1466987107              Idle Zoo Tycoon 3D   \n",
       "16730  1467166549                         OG West   \n",
       "16875  1471336822  Idle Waterpark 3D Fun Aquapark   \n",
       "\n",
       "                                                Icon URL Avg_user_rating  \\\n",
       "1      https://is2-ssl.mzstatic.com/image/thumb/Purpl...               4   \n",
       "2      https://is4-ssl.mzstatic.com/image/thumb/Purpl...             3.5   \n",
       "3      https://is5-ssl.mzstatic.com/image/thumb/Purpl...               3   \n",
       "4      https://is3-ssl.mzstatic.com/image/thumb/Purpl...             3.5   \n",
       "5      https://is1-ssl.mzstatic.com/image/thumb/Purpl...             3.5   \n",
       "...                                                  ...             ...   \n",
       "16695  https://is4-ssl.mzstatic.com/image/thumb/Purpl...             4.5   \n",
       "16719  https://is1-ssl.mzstatic.com/image/thumb/Purpl...               5   \n",
       "16725  https://is4-ssl.mzstatic.com/image/thumb/Purpl...             4.5   \n",
       "16730  https://is4-ssl.mzstatic.com/image/thumb/Purpl...               5   \n",
       "16875  https://is5-ssl.mzstatic.com/image/thumb/Purpl...               5   \n",
       "\n",
       "          URC Price                                                IAP  \\\n",
       "1        3553  2.99                                                NaN   \n",
       "2         284  1.99                                                NaN   \n",
       "3        8376     0                                                NaN   \n",
       "4      190394     0                                                NaN   \n",
       "5          28  2.99                                                NaN   \n",
       "...       ...   ...                                                ...   \n",
       "16695     354     0  9.99, 4.99, 4.99, 2.99, 9.99, 0.99, 1.99, 2.99...   \n",
       "16719     658     0                                               2.99   \n",
       "16725    1197     0                                                NaN   \n",
       "16730     267     0  0.99, 4.99, 19.99, 9.99, 24.99, 2.99, 1.99, 99...   \n",
       "16875     201     0                                                NaN   \n",
       "\n",
       "                                             Description  \\\n",
       "1      Join over 21,000,000 of our fans and download ...   \n",
       "2      The classic game of Reversi, also known as Oth...   \n",
       "3      Play the classic strategy game Othello (also k...   \n",
       "4      Top 100 free app for over a year.\\nRated \"Best...   \n",
       "5      \"Senet Deluxe - The Ancient Game of Life and A...   \n",
       "...                                                  ...   \n",
       "16695  \"Unwind with this classic breakout game! Smash...   \n",
       "16719  Do you think you have what it takes to become ...   \n",
       "16725  Are you ready to manage the zoo of your dreams...   \n",
       "16730  Ready to live as an original gangster in the o...   \n",
       "16875  Build your own Waterpark and expand your busin...   \n",
       "\n",
       "                      Developer age_rating       Size      Genres  \\\n",
       "1      Mighty Mighty Good Games         4+   15853568      Puzzle   \n",
       "2              Kiss The Machine         4+   12328960      Puzzle   \n",
       "3                   Bayou Games         4+     674816      Puzzle   \n",
       "4      Mighty Mighty Good Games         4+   21552128      Puzzle   \n",
       "5               RoGame Software         4+   34689024      Puzzle   \n",
       "...                         ...        ...        ...         ...   \n",
       "16695  Hong Kong JoyTap Limited         4+  211398656      Puzzle   \n",
       "16719          Ksenia Aprelkova         4+  206372864      Puzzle   \n",
       "16725             Marine Parker        12+  131396608      Action   \n",
       "16730    Star Ring Game Limited        12+  282842112  Simulation   \n",
       "16875          Regina Gallander         4+  325653504  Simulation   \n",
       "\n",
       "      release_date   CVR_Date update_date  \n",
       "1       2008-11-07 2017-05-30   3126 days  \n",
       "2       2008-11-07 2018-05-17   3478 days  \n",
       "3       2008-11-07 2017-05-09   3105 days  \n",
       "4       2008-07-23 2017-05-30   3233 days  \n",
       "5       2008-07-18 2018-07-22   3656 days  \n",
       "...            ...        ...         ...  \n",
       "16695   2019-11-06 2019-07-28   -101 days  \n",
       "16719   2019-05-06 2019-07-30     85 days  \n",
       "16725   2019-03-07 2019-01-08    -58 days  \n",
       "16730   2019-06-18 2019-03-08   -102 days  \n",
       "16875   2019-02-08 2019-02-08      0 days  \n",
       "\n",
       "[5060 rows x 15 columns]"
      ]
     },
     "execution_count": 140,
     "metadata": {},
     "output_type": "execute_result"
    }
   ],
   "source": [
    "user.head(5060)"
   ]
  },
  {
   "cell_type": "markdown",
   "metadata": {},
   "source": [
    "# GENRE GROUPING"
   ]
  },
  {
   "cell_type": "code",
   "execution_count": 141,
   "metadata": {},
   "outputs": [
    {
     "data": {
      "image/png": "[encoded data removed]",
      "text/plain": [
       "<Figure size 576x576 with 2 Axes>"
      ]
     },
     "metadata": {},
     "output_type": "display_data"
    }
   ],
   "source": [
    "#GENRE GROUPING\n",
    "import matplotlib.pyplot as plt\n",
    "import seaborn as sns\n",
    "sns.set_style(\"whitegrid\")\n",
    "%matplotlib inline\n",
    "\n",
    "sns.set_style('darkgrid')\n",
    "f, axes = plt.subplots (2,1, figsize=(8,8))\n",
    "\n",
    "#Histogram\n",
    "x=['Puzzle','Action','Adventure','Family']\n",
    "y = [user.Genres[(user['Genres']=='Puzzle')].count(),user.Genres[(user['Genres']=='Action')].count(),\\\n",
    "     user.Genres[(user['Genres']=='Adventure')].count(),user.Genres[(user['Genres']=='Family')].count()]\n",
    "\n",
    "vis1= sns.barplot(x,y,palette='Accent',ax=axes[0])\n",
    "vis1.set(xlabel='Genres',ylabel='Number of Games')\n",
    "for p in vis1.patches:\n",
    "             vis1.annotate(\"%.f\" % p.get_height(), (p.get_x() + p.get_width() / 2., p.get_height()),\n",
    "                 ha='center', va='center', fontsize=11, color='gray', xytext=(0, 20),\n",
    "                 textcoords='offset points')\n",
    "\n",
    "\n",
    "#Pie Chart\n",
    "NG = [user.Genres[(user['Genres']=='Puzzle')].count(),user.Genres[(user['Genres']=='Action')].count(),user.Genres[(user['Genres']=='Adventure')].count(),user.Genres[(user['Genres']=='Family')].count()]\n",
    "G = ['Puzzle','Action','Adventure','Family']\n",
    "\n",
    "plt.pie(NG, labels=G, startangle=90, autopct='%.1f%%')\n",
    "plt.show()\n",
    "\n",
    "\n",
    "plt.ioff()"
   ]
  },
  {
   "cell_type": "code",
   "execution_count": 142,
   "metadata": {},
   "outputs": [
    {
     "data": {
      "text/plain": [
       "array(['Puzzle', '', 'Casual', 'Action', 'Card', 'Simulation',\n",
       "       'Finance Simulation', 'Word', 'Adventure', 'Sports', 'Family',\n",
       "       'Travel Word', 'Casino', 'Sports Sports', 'Lifestyle Simulation',\n",
       "       'Simulation Utilities', 'Trivia', 'Lifestyle Trivia', 'Racing',\n",
       "       'Casual Sports', 'Card Utilities', 'Racing Sports',\n",
       "       'Simulation Travel', 'Productivity Simulation', 'Reference Trivia',\n",
       "       'Lifestyle', 'Music Music', 'Networking Social', 'Casual Finance',\n",
       "       '& Drink Food Simulation', '& Fitness Health', 'Music',\n",
       "       'Networking Simulation Social', 'Simulation Sports', 'Utilities',\n",
       "       'News Simulation', 'Reference', 'Casino Sports',\n",
       "       'Business Simulation', 'Trivia Utilities', 'Casual Lifestyle',\n",
       "       'Music Simulation', 'Casual Networking Social', 'Card Travel',\n",
       "       '& Casual Drink Food', 'Business', 'Books Simulation',\n",
       "       'Productivity Trivia', 'Card Sports', 'Business Trivia',\n",
       "       'Casual Utilities', 'Casual News', 'Casual Reference',\n",
       "       'Business Sports', '& Photo Video Word', 'Card Networking Social',\n",
       "       '& Photo Sports Video', '& Photo Video', 'Music Word',\n",
       "       'Books Word', 'Lifestyle Sports', 'Card Productivity',\n",
       "       'Casino Finance', 'Navigation Trivia', 'Racing Travel'],\n",
       "      dtype=object)"
      ]
     },
     "execution_count": 142,
     "metadata": {},
     "output_type": "execute_result"
    }
   ],
   "source": [
    "user.Genres.unique()"
   ]
  },
  {
   "cell_type": "code",
   "execution_count": 143,
   "metadata": {},
   "outputs": [
    {
     "data": {
      "text/html": [
       "<div>\n",
       "<style scoped>\n",
       "    .dataframe tbody tr th:only-of-type {\n",
       "        vertical-align: middle;\n",
       "    }\n",
       "\n",
       "    .dataframe tbody tr th {\n",
       "        vertical-align: top;\n",
       "    }\n",
       "\n",
       "    .dataframe thead th {\n",
       "        text-align: right;\n",
       "    }\n",
       "</style>\n",
       "<table border=\"1\" class=\"dataframe\">\n",
       "  <thead>\n",
       "    <tr style=\"text-align: right;\">\n",
       "      <th></th>\n",
       "      <th>Name</th>\n",
       "      <th>Avg_user_rating</th>\n",
       "      <th>Genres</th>\n",
       "    </tr>\n",
       "  </thead>\n",
       "  <tbody>\n",
       "    <tr>\n",
       "      <th>353</th>\n",
       "      <td>Domino for iPhone</td>\n",
       "      <td>4</td>\n",
       "      <td>Puzzle</td>\n",
       "    </tr>\n",
       "    <tr>\n",
       "      <th>2223</th>\n",
       "      <td>\"Arizona Rose and the Pirates' Riddles HD\"</td>\n",
       "      <td>5</td>\n",
       "      <td>Puzzle</td>\n",
       "    </tr>\n",
       "    <tr>\n",
       "      <th>2654</th>\n",
       "      <td>Forge of Empires: Build a City</td>\n",
       "      <td>4.5</td>\n",
       "      <td>Simulation</td>\n",
       "    </tr>\n",
       "    <tr>\n",
       "      <th>7184</th>\n",
       "      <td>Zombidle</td>\n",
       "      <td>4.5</td>\n",
       "      <td>Adventure</td>\n",
       "    </tr>\n",
       "    <tr>\n",
       "      <th>8288</th>\n",
       "      <td>Trump Tycoon : Politics Game</td>\n",
       "      <td>4.5</td>\n",
       "      <td>Adventure</td>\n",
       "    </tr>\n",
       "    <tr>\n",
       "      <th>10545</th>\n",
       "      <td>Pro 11 - Soccer Manager Game</td>\n",
       "      <td>4.5</td>\n",
       "      <td>Sports Sports</td>\n",
       "    </tr>\n",
       "    <tr>\n",
       "      <th>248</th>\n",
       "      <td>Worms 2: Armageddon</td>\n",
       "      <td>4.5</td>\n",
       "      <td>Action</td>\n",
       "    </tr>\n",
       "    <tr>\n",
       "      <th>4799</th>\n",
       "      <td>Tiny Rifles</td>\n",
       "      <td>4</td>\n",
       "      <td>Casual</td>\n",
       "    </tr>\n",
       "  </tbody>\n",
       "</table>\n",
       "</div>"
      ],
      "text/plain": [
       "                                             Name Avg_user_rating  \\\n",
       "353                             Domino for iPhone               4   \n",
       "2223   \"Arizona Rose and the Pirates' Riddles HD\"               5   \n",
       "2654               Forge of Empires: Build a City             4.5   \n",
       "7184                                     Zombidle             4.5   \n",
       "8288                 Trump Tycoon : Politics Game             4.5   \n",
       "10545                Pro 11 - Soccer Manager Game             4.5   \n",
       "248                           Worms 2: Armageddon             4.5   \n",
       "4799                                  Tiny Rifles               4   \n",
       "\n",
       "              Genres  \n",
       "353           Puzzle  \n",
       "2223          Puzzle  \n",
       "2654      Simulation  \n",
       "7184       Adventure  \n",
       "8288       Adventure  \n",
       "10545  Sports Sports  \n",
       "248           Action  \n",
       "4799          Casual  "
      ]
     },
     "execution_count": 143,
     "metadata": {},
     "output_type": "execute_result"
    }
   ],
   "source": [
    "review = user.sort_values(by='URC', ascending=False)[['Name', 'Avg_user_rating','Genres', 'URC', ]].head(8)\n",
    "review.iloc[:, 0:-1]"
   ]
  },
  {
   "cell_type": "markdown",
   "metadata": {},
   "source": []
  },
  {
   "cell_type": "code",
   "execution_count": 189,
   "metadata": {},
   "outputs": [
    {
     "data": {
      "text/plain": [
       "<matplotlib.axes._subplots.AxesSubplot at 0x28e4b4b3588>"
      ]
     },
     "execution_count": 189,
     "metadata": {},
     "output_type": "execute_result"
    },
    {
     "data": {
      "image/png": "[encoded data removed]",
      "text/plain": [
       "<Figure size 432x288 with 1 Axes>"
      ]
     },
     "metadata": {
      "needs_background": "light"
     },
     "output_type": "display_data"
    }
   ],
   "source": [
    "%matplotlib inline\n",
    "# bar plot of the 'avg_user_rating' for the 'genre' Series\n",
    "user.Genres.value_counts().plot(kind='bar')"
   ]
  },
  {
   "cell_type": "code",
   "execution_count": 145,
   "metadata": {},
   "outputs": [
    {
     "name": "stdout",
     "output_type": "stream",
     "text": [
      "Requirement already satisfied: plotly==4.6.0 in c:\\users\\hp\\anaconda3\\lib\\site-packages (4.6.0)\n",
      "Requirement already satisfied: six in c:\\users\\hp\\anaconda3\\lib\\site-packages (from plotly==4.6.0) (1.14.0)\n",
      "Requirement already satisfied: retrying>=1.3.3 in c:\\users\\hp\\anaconda3\\lib\\site-packages (from plotly==4.6.0) (1.3.3)\n",
      "Note: you may need to restart the kernel to use updated packages.\n"
     ]
    }
   ],
   "source": [
    "pip install plotly==4.6.0\n"
   ]
  },
  {
   "cell_type": "code",
   "execution_count": 146,
   "metadata": {},
   "outputs": [],
   "source": [
    "import plotly.offline as py"
   ]
  },
  {
   "cell_type": "code",
   "execution_count": 147,
   "metadata": {},
   "outputs": [
    {
     "data": {
      "image/png": "[encoded data removed]",
      "text/plain": [
       "<Figure size 864x360 with 1 Axes>"
      ]
     },
     "metadata": {
      "needs_background": "light"
     },
     "output_type": "display_data"
    }
   ],
   "source": [
    "plt.rcParams['figure.figsize'] = (12, 5)\n",
    "user.Genres.value_counts()[:20].plot(kind='bar',color = 'purple', alpha =1, linewidth=4, edgecolor='darkblue')\n",
    "plt.xlabel(\"Genres\", fontsize=18)\n",
    "plt.ylabel(\"COUNT\", fontsize=18)\n",
    "plt.title(\"GENRES GROUPING\", fontsize=30)\n",
    "plt.xticks(rotation=90, fontsize = 13) \n",
    "plt.show()"
   ]
  },
  {
   "cell_type": "code",
   "execution_count": 148,
   "metadata": {},
   "outputs": [
    {
     "data": {
      "text/plain": [
       "4.5    2155\n",
       "4      1182\n",
       "3.5     607\n",
       "5       553\n",
       "3       291\n",
       "2.5     170\n",
       "2        70\n",
       "1.5      24\n",
       "1         8\n",
       "Name: Avg_user_rating, dtype: int64"
      ]
     },
     "execution_count": 148,
     "metadata": {},
     "output_type": "execute_result"
    }
   ],
   "source": [
    "user['Avg_user_rating'].value_counts().head(5060)"
   ]
  },
  {
   "cell_type": "code",
   "execution_count": 149,
   "metadata": {},
   "outputs": [
    {
     "data": {
      "text/html": [
       "<div>\n",
       "<style scoped>\n",
       "    .dataframe tbody tr th:only-of-type {\n",
       "        vertical-align: middle;\n",
       "    }\n",
       "\n",
       "    .dataframe tbody tr th {\n",
       "        vertical-align: top;\n",
       "    }\n",
       "\n",
       "    .dataframe thead th {\n",
       "        text-align: right;\n",
       "    }\n",
       "</style>\n",
       "<table border=\"1\" class=\"dataframe\">\n",
       "  <thead>\n",
       "    <tr style=\"text-align: right;\">\n",
       "      <th></th>\n",
       "      <th>Name</th>\n",
       "      <th>Avg_user_rating</th>\n",
       "      <th>URC</th>\n",
       "      <th>Size</th>\n",
       "      <th>Price</th>\n",
       "      <th>Developer</th>\n",
       "    </tr>\n",
       "  </thead>\n",
       "  <tbody>\n",
       "    <tr>\n",
       "      <th>2223</th>\n",
       "      <td>\"Arizona Rose and the Pirates' Riddles HD\"</td>\n",
       "      <td>5</td>\n",
       "      <td>994</td>\n",
       "      <td>78258176</td>\n",
       "      <td>0</td>\n",
       "      <td>Anawiki Games</td>\n",
       "    </tr>\n",
       "    <tr>\n",
       "      <th>1650</th>\n",
       "      <td>Bloons TD 5</td>\n",
       "      <td>5</td>\n",
       "      <td>97776</td>\n",
       "      <td>133326848</td>\n",
       "      <td>2.99</td>\n",
       "      <td>Ninja Kiwi</td>\n",
       "    </tr>\n",
       "    <tr>\n",
       "      <th>16163</th>\n",
       "      <td>Cooking Hot Cooking Games</td>\n",
       "      <td>5</td>\n",
       "      <td>9706</td>\n",
       "      <td>251574272</td>\n",
       "      <td>0</td>\n",
       "      <td>FlyBird Limited</td>\n",
       "    </tr>\n",
       "    <tr>\n",
       "      <th>5478</th>\n",
       "      <td>Gem Quest - Jewel Games Puzzle</td>\n",
       "      <td>5</td>\n",
       "      <td>969</td>\n",
       "      <td>94669824</td>\n",
       "      <td>0</td>\n",
       "      <td>Miik Limited</td>\n",
       "    </tr>\n",
       "    <tr>\n",
       "      <th>7453</th>\n",
       "      <td>Open Bar!</td>\n",
       "      <td>5</td>\n",
       "      <td>961</td>\n",
       "      <td>62851072</td>\n",
       "      <td>2.99</td>\n",
       "      <td>Gingear Studio Inc</td>\n",
       "    </tr>\n",
       "    <tr>\n",
       "      <th>...</th>\n",
       "      <td>...</td>\n",
       "      <td>...</td>\n",
       "      <td>...</td>\n",
       "      <td>...</td>\n",
       "      <td>...</td>\n",
       "      <td>...</td>\n",
       "    </tr>\n",
       "    <tr>\n",
       "      <th>11169</th>\n",
       "      <td>Plunge Jo</td>\n",
       "      <td>5</td>\n",
       "      <td>10</td>\n",
       "      <td>28114944</td>\n",
       "      <td>0</td>\n",
       "      <td>Juergen Trozki</td>\n",
       "    </tr>\n",
       "    <tr>\n",
       "      <th>12188</th>\n",
       "      <td>Wall Ball - Bounce</td>\n",
       "      <td>5</td>\n",
       "      <td>10</td>\n",
       "      <td>25792512</td>\n",
       "      <td>0</td>\n",
       "      <td>Maxwell Hubbard</td>\n",
       "    </tr>\n",
       "    <tr>\n",
       "      <th>13571</th>\n",
       "      <td>TiViTz \\u2014 Math Game</td>\n",
       "      <td>5</td>\n",
       "      <td>10</td>\n",
       "      <td>63912960</td>\n",
       "      <td>0</td>\n",
       "      <td>SAS Games, Inc.</td>\n",
       "    </tr>\n",
       "    <tr>\n",
       "      <th>13863</th>\n",
       "      <td>2048\\uff0e</td>\n",
       "      <td>5</td>\n",
       "      <td>10</td>\n",
       "      <td>14782464</td>\n",
       "      <td>0</td>\n",
       "      <td>Irina Bylgakova</td>\n",
       "    </tr>\n",
       "    <tr>\n",
       "      <th>14193</th>\n",
       "      <td>9PM Football Managers</td>\n",
       "      <td>5</td>\n",
       "      <td>10</td>\n",
       "      <td>415073280</td>\n",
       "      <td>0</td>\n",
       "      <td>UNCOSOFT</td>\n",
       "    </tr>\n",
       "  </tbody>\n",
       "</table>\n",
       "<p>553 rows × 6 columns</p>\n",
       "</div>"
      ],
      "text/plain": [
       "                                             Name Avg_user_rating    URC  \\\n",
       "2223   \"Arizona Rose and the Pirates' Riddles HD\"               5    994   \n",
       "1650                                  Bloons TD 5               5  97776   \n",
       "16163                   Cooking Hot Cooking Games               5   9706   \n",
       "5478               Gem Quest - Jewel Games Puzzle               5    969   \n",
       "7453                                    Open Bar!               5    961   \n",
       "...                                           ...             ...    ...   \n",
       "11169                                   Plunge Jo               5     10   \n",
       "12188                          Wall Ball - Bounce               5     10   \n",
       "13571                     TiViTz \\u2014 Math Game               5     10   \n",
       "13863                                  2048\\uff0e               5     10   \n",
       "14193                       9PM Football Managers               5     10   \n",
       "\n",
       "            Size Price           Developer  \n",
       "2223    78258176     0       Anawiki Games  \n",
       "1650   133326848  2.99          Ninja Kiwi  \n",
       "16163  251574272     0     FlyBird Limited  \n",
       "5478    94669824     0        Miik Limited  \n",
       "7453    62851072  2.99  Gingear Studio Inc  \n",
       "...          ...   ...                 ...  \n",
       "11169   28114944     0      Juergen Trozki  \n",
       "12188   25792512     0     Maxwell Hubbard  \n",
       "13571   63912960     0     SAS Games, Inc.  \n",
       "13863   14782464     0     Irina Bylgakova  \n",
       "14193  415073280     0            UNCOSOFT  \n",
       "\n",
       "[553 rows x 6 columns]"
      ]
     },
     "execution_count": 149,
     "metadata": {},
     "output_type": "execute_result"
    }
   ],
   "source": [
    "best = user.sort_values(by=['Avg_user_rating', 'URC'], ascending=False)[['Name', 'Avg_user_rating', 'URC', 'Size', \n",
    "                                                                                         'Price', 'Developer',  'Icon URL',]].head(553)\n",
    "best.iloc[:, 0:-1]"
   ]
  },
  {
   "cell_type": "markdown",
   "metadata": {},
   "source": [
    "# GAME PRICE AND IN_APP PURCHASE FACTOR(GROUPED BY GENRES)"
   ]
  },
  {
   "cell_type": "code",
   "execution_count": 150,
   "metadata": {},
   "outputs": [
    {
     "data": {
      "text/html": [
       "<div>\n",
       "<style scoped>\n",
       "    .dataframe tbody tr th:only-of-type {\n",
       "        vertical-align: middle;\n",
       "    }\n",
       "\n",
       "    .dataframe tbody tr th {\n",
       "        vertical-align: top;\n",
       "    }\n",
       "\n",
       "    .dataframe thead th {\n",
       "        text-align: right;\n",
       "    }\n",
       "</style>\n",
       "<table border=\"1\" class=\"dataframe\">\n",
       "  <thead>\n",
       "    <tr style=\"text-align: right;\">\n",
       "      <th></th>\n",
       "      <th>Name</th>\n",
       "      <th>Genres</th>\n",
       "      <th>IAP</th>\n",
       "    </tr>\n",
       "  </thead>\n",
       "  <tbody>\n",
       "    <tr>\n",
       "      <th>3985</th>\n",
       "      <td>Design CAD - create and edit DWG/DXF/CTM drawi...</td>\n",
       "      <td>Adventure</td>\n",
       "      <td>7.99</td>\n",
       "    </tr>\n",
       "    <tr>\n",
       "      <th>8417</th>\n",
       "      <td>Banner Saga 2</td>\n",
       "      <td>Adventure</td>\n",
       "      <td>4.99</td>\n",
       "    </tr>\n",
       "    <tr>\n",
       "      <th>9912</th>\n",
       "      <td>Terra Mystica</td>\n",
       "      <td>Puzzle</td>\n",
       "      <td>4.99</td>\n",
       "    </tr>\n",
       "    <tr>\n",
       "      <th>1306</th>\n",
       "      <td>Battle of the Bulge</td>\n",
       "      <td>Puzzle</td>\n",
       "      <td>3.99, 1.99, 1.99, 2.99</td>\n",
       "    </tr>\n",
       "    <tr>\n",
       "      <th>2148</th>\n",
       "      <td>\"Baldur's Gate II: EE\"</td>\n",
       "      <td>Adventure</td>\n",
       "      <td>2.99, 2.99, 2.99, 2.99, 2.99, 2.99, 2.99, 2.99</td>\n",
       "    </tr>\n",
       "    <tr>\n",
       "      <th>3821</th>\n",
       "      <td>Quick Documents Pro for Office Productivity Docs</td>\n",
       "      <td>Business</td>\n",
       "      <td>11.99</td>\n",
       "    </tr>\n",
       "    <tr>\n",
       "      <th>966</th>\n",
       "      <td>RAVENMARK: Scourge of Estellion</td>\n",
       "      <td>Adventure</td>\n",
       "      <td>0.99, 0.99, 9.99, 4.99</td>\n",
       "    </tr>\n",
       "    <tr>\n",
       "      <th>150</th>\n",
       "      <td>HIARCS Chess</td>\n",
       "      <td>Puzzle</td>\n",
       "      <td>NaN</td>\n",
       "    </tr>\n",
       "  </tbody>\n",
       "</table>\n",
       "</div>"
      ],
      "text/plain": [
       "                                                   Name     Genres  \\\n",
       "3985  Design CAD - create and edit DWG/DXF/CTM drawi...  Adventure   \n",
       "8417                                      Banner Saga 2  Adventure   \n",
       "9912                                      Terra Mystica     Puzzle   \n",
       "1306                                Battle of the Bulge     Puzzle   \n",
       "2148                             \"Baldur's Gate II: EE\"  Adventure   \n",
       "3821   Quick Documents Pro for Office Productivity Docs   Business   \n",
       "966                     RAVENMARK: Scourge of Estellion  Adventure   \n",
       "150                                        HIARCS Chess     Puzzle   \n",
       "\n",
       "                                                 IAP  \n",
       "3985                                            7.99  \n",
       "8417                                            4.99  \n",
       "9912                                            4.99  \n",
       "1306                          3.99, 1.99, 1.99, 2.99  \n",
       "2148  2.99, 2.99, 2.99, 2.99, 2.99, 2.99, 2.99, 2.99  \n",
       "3821                                           11.99  \n",
       "966                           0.99, 0.99, 9.99, 4.99  \n",
       "150                                              NaN  "
      ]
     },
     "execution_count": 150,
     "metadata": {},
     "output_type": "execute_result"
    }
   ],
   "source": [
    "\n",
    "review = user.sort_values(by=['Price','IAP'], ascending=False)[['Name','Genres','IAP','Price']].head(8)\n",
    "review.iloc[:, 0:-1]"
   ]
  },
  {
   "cell_type": "markdown",
   "metadata": {},
   "source": [
    "# GAME SIZE ANALYSIS(A/C TO GENRE)"
   ]
  },
  {
   "cell_type": "code",
   "execution_count": 151,
   "metadata": {},
   "outputs": [
    {
     "data": {
      "text/html": [
       "<div>\n",
       "<style scoped>\n",
       "    .dataframe tbody tr th:only-of-type {\n",
       "        vertical-align: middle;\n",
       "    }\n",
       "\n",
       "    .dataframe tbody tr th {\n",
       "        vertical-align: top;\n",
       "    }\n",
       "\n",
       "    .dataframe thead th {\n",
       "        text-align: right;\n",
       "    }\n",
       "</style>\n",
       "<table border=\"1\" class=\"dataframe\">\n",
       "  <thead>\n",
       "    <tr style=\"text-align: right;\">\n",
       "      <th></th>\n",
       "      <th>Name</th>\n",
       "      <th>Genres</th>\n",
       "      <th>Size</th>\n",
       "    </tr>\n",
       "  </thead>\n",
       "  <tbody>\n",
       "    <tr>\n",
       "      <th>551</th>\n",
       "      <td>SOS Puzzle Free!</td>\n",
       "      <td>Puzzle</td>\n",
       "      <td>10027008</td>\n",
       "    </tr>\n",
       "    <tr>\n",
       "      <th>3239</th>\n",
       "      <td>Haypi Adventure</td>\n",
       "      <td>Simulation</td>\n",
       "      <td>100304896</td>\n",
       "    </tr>\n",
       "    <tr>\n",
       "      <th>4432</th>\n",
       "      <td>Ard Ri Tactics</td>\n",
       "      <td>Puzzle</td>\n",
       "      <td>100369408</td>\n",
       "    </tr>\n",
       "    <tr>\n",
       "      <th>14727</th>\n",
       "      <td>Castle Fusion</td>\n",
       "      <td>Action</td>\n",
       "      <td>100401152</td>\n",
       "    </tr>\n",
       "    <tr>\n",
       "      <th>8970</th>\n",
       "      <td>GauntleText</td>\n",
       "      <td>Adventure</td>\n",
       "      <td>10042368</td>\n",
       "    </tr>\n",
       "    <tr>\n",
       "      <th>2675</th>\n",
       "      <td>Mazebert TD</td>\n",
       "      <td>Simulation</td>\n",
       "      <td>100454400</td>\n",
       "    </tr>\n",
       "    <tr>\n",
       "      <th>4075</th>\n",
       "      <td>\"Hero's Throne\"</td>\n",
       "      <td>Adventure</td>\n",
       "      <td>100519936</td>\n",
       "    </tr>\n",
       "    <tr>\n",
       "      <th>1792</th>\n",
       "      <td>Cook, Serve, Delicious!</td>\n",
       "      <td>Simulation</td>\n",
       "      <td>100617216</td>\n",
       "    </tr>\n",
       "    <tr>\n",
       "      <th>14026</th>\n",
       "      <td>Shtcoin</td>\n",
       "      <td>Casino Finance</td>\n",
       "      <td>100619264</td>\n",
       "    </tr>\n",
       "    <tr>\n",
       "      <th>8489</th>\n",
       "      <td>Jewel Crush - Blast Diamond</td>\n",
       "      <td>Puzzle</td>\n",
       "      <td>100657152</td>\n",
       "    </tr>\n",
       "  </tbody>\n",
       "</table>\n",
       "</div>"
      ],
      "text/plain": [
       "                              Name          Genres       Size\n",
       "551               SOS Puzzle Free!          Puzzle   10027008\n",
       "3239               Haypi Adventure      Simulation  100304896\n",
       "4432                Ard Ri Tactics          Puzzle  100369408\n",
       "14727                Castle Fusion          Action  100401152\n",
       "8970                   GauntleText       Adventure   10042368\n",
       "2675                   Mazebert TD      Simulation  100454400\n",
       "4075               \"Hero's Throne\"       Adventure  100519936\n",
       "1792       Cook, Serve, Delicious!      Simulation  100617216\n",
       "14026                      Shtcoin  Casino Finance  100619264\n",
       "8489   Jewel Crush - Blast Diamond          Puzzle  100657152"
      ]
     },
     "execution_count": 151,
     "metadata": {},
     "output_type": "execute_result"
    }
   ],
   "source": [
    "\n",
    "review = user.sort_values(by='Size', ascending=True)[['Name','Genres','Size','Genres']].head(10)\n",
    "review.iloc[:, 0:-1]"
   ]
  },
  {
   "cell_type": "markdown",
   "metadata": {},
   "source": [
    "# AGE RATING FACTOR"
   ]
  },
  {
   "cell_type": "code",
   "execution_count": 152,
   "metadata": {},
   "outputs": [
    {
     "data": {
      "text/markdown": [
       "**MOST OF THE APPS HAVE 4+ AGE RATING**"
      ],
      "text/plain": [
       "<IPython.core.display.Markdown object>"
      ]
     },
     "metadata": {},
     "output_type": "display_data"
    },
    {
     "data": {
      "application/vnd.plotly.v1+json": {
       "config": {
        "linkText": "Export to plot.ly",
        "plotlyServerURL": "https://plot.ly",
        "showLink": false
       },
       "data": [
        {
         "hole": 0.5,
         "hoverinfo": "percent+value",
         "labels": [
          "4+",
          "9+",
          "12+",
          "17+"
         ],
         "marker": {
          "colors": [
           "lightlime",
           "gold",
           "red"
          ],
          "line": {
           "color": "yellow",
           "width": 2
          }
         },
         "showlegend": true,
         "textinfo": "percent",
         "textposition": "inside",
         "title": {
          "text": "age_rating"
         },
         "type": "pie",
         "values": [
          2850,
          1020,
          1007,
          183
         ]
        }
       ],
       "layout": {
        "template": {
         "data": {
          "bar": [
           {
            "error_x": {
             "color": "#2a3f5f"
            },
            "error_y": {
             "color": "#2a3f5f"
            },
            "marker": {
             "line": {
              "color": "#E5ECF6",
              "width": 0.5
             }
            },
            "type": "bar"
           }
          ],
          "barpolar": [
           {
            "marker": {
             "line": {
              "color": "#E5ECF6",
              "width": 0.5
             }
            },
            "type": "barpolar"
           }
          ],
          "carpet": [
           {
            "aaxis": {
             "endlinecolor": "#2a3f5f",
             "gridcolor": "white",
             "linecolor": "white",
             "minorgridcolor": "white",
             "startlinecolor": "#2a3f5f"
            },
            "baxis": {
             "endlinecolor": "#2a3f5f",
             "gridcolor": "white",
             "linecolor": "white",
             "minorgridcolor": "white",
             "startlinecolor": "#2a3f5f"
            },
            "type": "carpet"
           }
          ],
          "choropleth": [
           {
            "colorbar": {
             "outlinewidth": 0,
             "ticks": ""
            },
            "type": "choropleth"
           }
          ],
          "contour": [
           {
            "colorbar": {
             "outlinewidth": 0,
             "ticks": ""
            },
            "colorscale": [
             [
              0,
              "#0d0887"
             ],
             [
              0.1111111111111111,
              "#46039f"
             ],
             [
              0.2222222222222222,
              "#7201a8"
             ],
             [
              0.3333333333333333,
              "#9c179e"
             ],
             [
              0.4444444444444444,
              "#bd3786"
             ],
             [
              0.5555555555555556,
              "#d8576b"
             ],
             [
              0.6666666666666666,
              "#ed7953"
             ],
             [
              0.7777777777777778,
              "#fb9f3a"
             ],
             [
              0.8888888888888888,
              "#fdca26"
             ],
             [
              1,
              "#f0f921"
             ]
            ],
            "type": "contour"
           }
          ],
          "contourcarpet": [
           {
            "colorbar": {
             "outlinewidth": 0,
             "ticks": ""
            },
            "type": "contourcarpet"
           }
          ],
          "heatmap": [
           {
            "colorbar": {
             "outlinewidth": 0,
             "ticks": ""
            },
            "colorscale": [
             [
              0,
              "#0d0887"
             ],
             [
              0.1111111111111111,
              "#46039f"
             ],
             [
              0.2222222222222222,
              "#7201a8"
             ],
             [
              0.3333333333333333,
              "#9c179e"
             ],
             [
              0.4444444444444444,
              "#bd3786"
             ],
             [
              0.5555555555555556,
              "#d8576b"
             ],
             [
              0.6666666666666666,
              "#ed7953"
             ],
             [
              0.7777777777777778,
              "#fb9f3a"
             ],
             [
              0.8888888888888888,
              "#fdca26"
             ],
             [
              1,
              "#f0f921"
             ]
            ],
            "type": "heatmap"
           }
          ],
          "heatmapgl": [
           {
            "colorbar": {
             "outlinewidth": 0,
             "ticks": ""
            },
            "colorscale": [
             [
              0,
              "#0d0887"
             ],
             [
              0.1111111111111111,
              "#46039f"
             ],
             [
              0.2222222222222222,
              "#7201a8"
             ],
             [
              0.3333333333333333,
              "#9c179e"
             ],
             [
              0.4444444444444444,
              "#bd3786"
             ],
             [
              0.5555555555555556,
              "#d8576b"
             ],
             [
              0.6666666666666666,
              "#ed7953"
             ],
             [
              0.7777777777777778,
              "#fb9f3a"
             ],
             [
              0.8888888888888888,
              "#fdca26"
             ],
             [
              1,
              "#f0f921"
             ]
            ],
            "type": "heatmapgl"
           }
          ],
          "histogram": [
           {
            "marker": {
             "colorbar": {
              "outlinewidth": 0,
              "ticks": ""
             }
            },
            "type": "histogram"
           }
          ],
          "histogram2d": [
           {
            "colorbar": {
             "outlinewidth": 0,
             "ticks": ""
            },
            "colorscale": [
             [
              0,
              "#0d0887"
             ],
             [
              0.1111111111111111,
              "#46039f"
             ],
             [
              0.2222222222222222,
              "#7201a8"
             ],
             [
              0.3333333333333333,
              "#9c179e"
             ],
             [
              0.4444444444444444,
              "#bd3786"
             ],
             [
              0.5555555555555556,
              "#d8576b"
             ],
             [
              0.6666666666666666,
              "#ed7953"
             ],
             [
              0.7777777777777778,
              "#fb9f3a"
             ],
             [
              0.8888888888888888,
              "#fdca26"
             ],
             [
              1,
              "#f0f921"
             ]
            ],
            "type": "histogram2d"
           }
          ],
          "histogram2dcontour": [
           {
            "colorbar": {
             "outlinewidth": 0,
             "ticks": ""
            },
            "colorscale": [
             [
              0,
              "#0d0887"
             ],
             [
              0.1111111111111111,
              "#46039f"
             ],
             [
              0.2222222222222222,
              "#7201a8"
             ],
             [
              0.3333333333333333,
              "#9c179e"
             ],
             [
              0.4444444444444444,
              "#bd3786"
             ],
             [
              0.5555555555555556,
              "#d8576b"
             ],
             [
              0.6666666666666666,
              "#ed7953"
             ],
             [
              0.7777777777777778,
              "#fb9f3a"
             ],
             [
              0.8888888888888888,
              "#fdca26"
             ],
             [
              1,
              "#f0f921"
             ]
            ],
            "type": "histogram2dcontour"
           }
          ],
          "mesh3d": [
           {
            "colorbar": {
             "outlinewidth": 0,
             "ticks": ""
            },
            "type": "mesh3d"
           }
          ],
          "parcoords": [
           {
            "line": {
             "colorbar": {
              "outlinewidth": 0,
              "ticks": ""
             }
            },
            "type": "parcoords"
           }
          ],
          "pie": [
           {
            "automargin": true,
            "type": "pie"
           }
          ],
          "scatter": [
           {
            "marker": {
             "colorbar": {
              "outlinewidth": 0,
              "ticks": ""
             }
            },
            "type": "scatter"
           }
          ],
          "scatter3d": [
           {
            "line": {
             "colorbar": {
              "outlinewidth": 0,
              "ticks": ""
             }
            },
            "marker": {
             "colorbar": {
              "outlinewidth": 0,
              "ticks": ""
             }
            },
            "type": "scatter3d"
           }
          ],
          "scattercarpet": [
           {
            "marker": {
             "colorbar": {
              "outlinewidth": 0,
              "ticks": ""
             }
            },
            "type": "scattercarpet"
           }
          ],
          "scattergeo": [
           {
            "marker": {
             "colorbar": {
              "outlinewidth": 0,
              "ticks": ""
             }
            },
            "type": "scattergeo"
           }
          ],
          "scattergl": [
           {
            "marker": {
             "colorbar": {
              "outlinewidth": 0,
              "ticks": ""
             }
            },
            "type": "scattergl"
           }
          ],
          "scattermapbox": [
           {
            "marker": {
             "colorbar": {
              "outlinewidth": 0,
              "ticks": ""
             }
            },
            "type": "scattermapbox"
           }
          ],
          "scatterpolar": [
           {
            "marker": {
             "colorbar": {
              "outlinewidth": 0,
              "ticks": ""
             }
            },
            "type": "scatterpolar"
           }
          ],
          "scatterpolargl": [
           {
            "marker": {
             "colorbar": {
              "outlinewidth": 0,
              "ticks": ""
             }
            },
            "type": "scatterpolargl"
           }
          ],
          "scatterternary": [
           {
            "marker": {
             "colorbar": {
              "outlinewidth": 0,
              "ticks": ""
             }
            },
            "type": "scatterternary"
           }
          ],
          "surface": [
           {
            "colorbar": {
             "outlinewidth": 0,
             "ticks": ""
            },
            "colorscale": [
             [
              0,
              "#0d0887"
             ],
             [
              0.1111111111111111,
              "#46039f"
             ],
             [
              0.2222222222222222,
              "#7201a8"
             ],
             [
              0.3333333333333333,
              "#9c179e"
             ],
             [
              0.4444444444444444,
              "#bd3786"
             ],
             [
              0.5555555555555556,
              "#d8576b"
             ],
             [
              0.6666666666666666,
              "#ed7953"
             ],
             [
              0.7777777777777778,
              "#fb9f3a"
             ],
             [
              0.8888888888888888,
              "#fdca26"
             ],
             [
              1,
              "#f0f921"
             ]
            ],
            "type": "surface"
           }
          ],
          "table": [
           {
            "cells": {
             "fill": {
              "color": "#EBF0F8"
             },
             "line": {
              "color": "white"
             }
            },
            "header": {
             "fill": {
              "color": "#C8D4E3"
             },
             "line": {
              "color": "white"
             }
            },
            "type": "table"
           }
          ]
         },
         "layout": {
          "annotationdefaults": {
           "arrowcolor": "#2a3f5f",
           "arrowhead": 0,
           "arrowwidth": 1
          },
          "coloraxis": {
           "colorbar": {
            "outlinewidth": 0,
            "ticks": ""
           }
          },
          "colorscale": {
           "diverging": [
            [
             0,
             "#8e0152"
            ],
            [
             0.1,
             "#c51b7d"
            ],
            [
             0.2,
             "#de77ae"
            ],
            [
             0.3,
             "#f1b6da"
            ],
            [
             0.4,
             "#fde0ef"
            ],
            [
             0.5,
             "#f7f7f7"
            ],
            [
             0.6,
             "#e6f5d0"
            ],
            [
             0.7,
             "#b8e186"
            ],
            [
             0.8,
             "#7fbc41"
            ],
            [
             0.9,
             "#4d9221"
            ],
            [
             1,
             "#276419"
            ]
           ],
           "sequential": [
            [
             0,
             "#0d0887"
            ],
            [
             0.1111111111111111,
             "#46039f"
            ],
            [
             0.2222222222222222,
             "#7201a8"
            ],
            [
             0.3333333333333333,
             "#9c179e"
            ],
            [
             0.4444444444444444,
             "#bd3786"
            ],
            [
             0.5555555555555556,
             "#d8576b"
            ],
            [
             0.6666666666666666,
             "#ed7953"
            ],
            [
             0.7777777777777778,
             "#fb9f3a"
            ],
            [
             0.8888888888888888,
             "#fdca26"
            ],
            [
             1,
             "#f0f921"
            ]
           ],
           "sequentialminus": [
            [
             0,
             "#0d0887"
            ],
            [
             0.1111111111111111,
             "#46039f"
            ],
            [
             0.2222222222222222,
             "#7201a8"
            ],
            [
             0.3333333333333333,
             "#9c179e"
            ],
            [
             0.4444444444444444,
             "#bd3786"
            ],
            [
             0.5555555555555556,
             "#d8576b"
            ],
            [
             0.6666666666666666,
             "#ed7953"
            ],
            [
             0.7777777777777778,
             "#fb9f3a"
            ],
            [
             0.8888888888888888,
             "#fdca26"
            ],
            [
             1,
             "#f0f921"
            ]
           ]
          },
          "colorway": [
           "#636efa",
           "#EF553B",
           "#00cc96",
           "#ab63fa",
           "#FFA15A",
           "#19d3f3",
           "#FF6692",
           "#B6E880",
           "#FF97FF",
           "#FECB52"
          ],
          "font": {
           "color": "#2a3f5f"
          },
          "geo": {
           "bgcolor": "white",
           "lakecolor": "white",
           "landcolor": "#E5ECF6",
           "showlakes": true,
           "showland": true,
           "subunitcolor": "white"
          },
          "hoverlabel": {
           "align": "left"
          },
          "hovermode": "closest",
          "mapbox": {
           "style": "light"
          },
          "paper_bgcolor": "white",
          "plot_bgcolor": "#E5ECF6",
          "polar": {
           "angularaxis": {
            "gridcolor": "white",
            "linecolor": "white",
            "ticks": ""
           },
           "bgcolor": "#E5ECF6",
           "radialaxis": {
            "gridcolor": "white",
            "linecolor": "white",
            "ticks": ""
           }
          },
          "scene": {
           "xaxis": {
            "backgroundcolor": "#E5ECF6",
            "gridcolor": "white",
            "gridwidth": 2,
            "linecolor": "white",
            "showbackground": true,
            "ticks": "",
            "zerolinecolor": "white"
           },
           "yaxis": {
            "backgroundcolor": "#E5ECF6",
            "gridcolor": "white",
            "gridwidth": 2,
            "linecolor": "white",
            "showbackground": true,
            "ticks": "",
            "zerolinecolor": "white"
           },
           "zaxis": {
            "backgroundcolor": "#E5ECF6",
            "gridcolor": "white",
            "gridwidth": 2,
            "linecolor": "white",
            "showbackground": true,
            "ticks": "",
            "zerolinecolor": "white"
           }
          },
          "shapedefaults": {
           "line": {
            "color": "#2a3f5f"
           }
          },
          "ternary": {
           "aaxis": {
            "gridcolor": "white",
            "linecolor": "white",
            "ticks": ""
           },
           "baxis": {
            "gridcolor": "white",
            "linecolor": "white",
            "ticks": ""
           },
           "bgcolor": "#E5ECF6",
           "caxis": {
            "gridcolor": "white",
            "linecolor": "white",
            "ticks": ""
           }
          },
          "title": {
           "x": 0.05
          },
          "xaxis": {
           "automargin": true,
           "gridcolor": "white",
           "linecolor": "white",
           "ticks": "",
           "title": {
            "standoff": 15
           },
           "zerolinecolor": "white",
           "zerolinewidth": 2
          },
          "yaxis": {
           "automargin": true,
           "gridcolor": "white",
           "linecolor": "white",
           "ticks": "",
           "title": {
            "standoff": 15
           },
           "zerolinecolor": "white",
           "zerolinewidth": 2
          }
         }
        }
       }
      },
      "text/html": [
       "<div>\n",
       "        \n",
       "        \n",
       "            <div id=\"57cb5985-7e95-4d03-9e3f-72ad52a84dca\" class=\"plotly-graph-div\" style=\"height:525px; width:100%;\"></div>\n",
       "            <script type=\"text/javascript\">\n",
       "                require([\"plotly\"], function(Plotly) {\n",
       "                    window.PLOTLYENV=window.PLOTLYENV || {};\n",
       "                    \n",
       "                if (document.getElementById(\"57cb5985-7e95-4d03-9e3f-72ad52a84dca\")) {\n",
       "                    Plotly.newPlot(\n",
       "                        '57cb5985-7e95-4d03-9e3f-72ad52a84dca',\n",
       "                        [{\"hole\": 0.5, \"hoverinfo\": \"percent+value\", \"labels\": [\"4+\", \"9+\", \"12+\", \"17+\"], \"marker\": {\"colors\": [\"lightlime\", \"gold\", \"red\"], \"line\": {\"color\": \"yellow\", \"width\": 2}}, \"showlegend\": true, \"textinfo\": \"percent\", \"textposition\": \"inside\", \"title\": {\"text\": \"age_rating\"}, \"type\": \"pie\", \"values\": [2850, 1020, 1007, 183]}],\n",
       "                        {\"template\": {\"data\": {\"bar\": [{\"error_x\": {\"color\": \"#2a3f5f\"}, \"error_y\": {\"color\": \"#2a3f5f\"}, \"marker\": {\"line\": {\"color\": \"#E5ECF6\", \"width\": 0.5}}, \"type\": \"bar\"}], \"barpolar\": [{\"marker\": {\"line\": {\"color\": \"#E5ECF6\", \"width\": 0.5}}, \"type\": \"barpolar\"}], \"carpet\": [{\"aaxis\": {\"endlinecolor\": \"#2a3f5f\", \"gridcolor\": \"white\", \"linecolor\": \"white\", \"minorgridcolor\": \"white\", \"startlinecolor\": \"#2a3f5f\"}, \"baxis\": {\"endlinecolor\": \"#2a3f5f\", \"gridcolor\": \"white\", \"linecolor\": \"white\", \"minorgridcolor\": \"white\", \"startlinecolor\": \"#2a3f5f\"}, \"type\": \"carpet\"}], \"choropleth\": [{\"colorbar\": {\"outlinewidth\": 0, \"ticks\": \"\"}, \"type\": \"choropleth\"}], \"contour\": [{\"colorbar\": {\"outlinewidth\": 0, \"ticks\": \"\"}, \"colorscale\": [[0.0, \"#0d0887\"], [0.1111111111111111, \"#46039f\"], [0.2222222222222222, \"#7201a8\"], [0.3333333333333333, \"#9c179e\"], [0.4444444444444444, \"#bd3786\"], [0.5555555555555556, \"#d8576b\"], [0.6666666666666666, \"#ed7953\"], [0.7777777777777778, \"#fb9f3a\"], [0.8888888888888888, \"#fdca26\"], [1.0, \"#f0f921\"]], \"type\": \"contour\"}], \"contourcarpet\": [{\"colorbar\": {\"outlinewidth\": 0, \"ticks\": \"\"}, \"type\": \"contourcarpet\"}], \"heatmap\": [{\"colorbar\": {\"outlinewidth\": 0, \"ticks\": \"\"}, \"colorscale\": [[0.0, \"#0d0887\"], [0.1111111111111111, \"#46039f\"], [0.2222222222222222, \"#7201a8\"], [0.3333333333333333, \"#9c179e\"], [0.4444444444444444, \"#bd3786\"], [0.5555555555555556, \"#d8576b\"], [0.6666666666666666, \"#ed7953\"], [0.7777777777777778, \"#fb9f3a\"], [0.8888888888888888, \"#fdca26\"], [1.0, \"#f0f921\"]], \"type\": \"heatmap\"}], \"heatmapgl\": [{\"colorbar\": {\"outlinewidth\": 0, \"ticks\": \"\"}, \"colorscale\": [[0.0, \"#0d0887\"], [0.1111111111111111, \"#46039f\"], [0.2222222222222222, \"#7201a8\"], [0.3333333333333333, \"#9c179e\"], [0.4444444444444444, \"#bd3786\"], [0.5555555555555556, \"#d8576b\"], [0.6666666666666666, \"#ed7953\"], [0.7777777777777778, \"#fb9f3a\"], [0.8888888888888888, \"#fdca26\"], [1.0, \"#f0f921\"]], \"type\": \"heatmapgl\"}], \"histogram\": [{\"marker\": {\"colorbar\": {\"outlinewidth\": 0, \"ticks\": \"\"}}, \"type\": \"histogram\"}], \"histogram2d\": [{\"colorbar\": {\"outlinewidth\": 0, \"ticks\": \"\"}, \"colorscale\": [[0.0, \"#0d0887\"], [0.1111111111111111, \"#46039f\"], [0.2222222222222222, \"#7201a8\"], [0.3333333333333333, \"#9c179e\"], [0.4444444444444444, \"#bd3786\"], [0.5555555555555556, \"#d8576b\"], [0.6666666666666666, \"#ed7953\"], [0.7777777777777778, \"#fb9f3a\"], [0.8888888888888888, \"#fdca26\"], [1.0, \"#f0f921\"]], \"type\": \"histogram2d\"}], \"histogram2dcontour\": [{\"colorbar\": {\"outlinewidth\": 0, \"ticks\": \"\"}, \"colorscale\": [[0.0, \"#0d0887\"], [0.1111111111111111, \"#46039f\"], [0.2222222222222222, \"#7201a8\"], [0.3333333333333333, \"#9c179e\"], [0.4444444444444444, \"#bd3786\"], [0.5555555555555556, \"#d8576b\"], [0.6666666666666666, \"#ed7953\"], [0.7777777777777778, \"#fb9f3a\"], [0.8888888888888888, \"#fdca26\"], [1.0, \"#f0f921\"]], \"type\": \"histogram2dcontour\"}], \"mesh3d\": [{\"colorbar\": {\"outlinewidth\": 0, \"ticks\": \"\"}, \"type\": \"mesh3d\"}], \"parcoords\": [{\"line\": {\"colorbar\": {\"outlinewidth\": 0, \"ticks\": \"\"}}, \"type\": \"parcoords\"}], \"pie\": [{\"automargin\": true, \"type\": \"pie\"}], \"scatter\": [{\"marker\": {\"colorbar\": {\"outlinewidth\": 0, \"ticks\": \"\"}}, \"type\": \"scatter\"}], \"scatter3d\": [{\"line\": {\"colorbar\": {\"outlinewidth\": 0, \"ticks\": \"\"}}, \"marker\": {\"colorbar\": {\"outlinewidth\": 0, \"ticks\": \"\"}}, \"type\": \"scatter3d\"}], \"scattercarpet\": [{\"marker\": {\"colorbar\": {\"outlinewidth\": 0, \"ticks\": \"\"}}, \"type\": \"scattercarpet\"}], \"scattergeo\": [{\"marker\": {\"colorbar\": {\"outlinewidth\": 0, \"ticks\": \"\"}}, \"type\": \"scattergeo\"}], \"scattergl\": [{\"marker\": {\"colorbar\": {\"outlinewidth\": 0, \"ticks\": \"\"}}, \"type\": \"scattergl\"}], \"scattermapbox\": [{\"marker\": {\"colorbar\": {\"outlinewidth\": 0, \"ticks\": \"\"}}, \"type\": \"scattermapbox\"}], \"scatterpolar\": [{\"marker\": {\"colorbar\": {\"outlinewidth\": 0, \"ticks\": \"\"}}, \"type\": \"scatterpolar\"}], \"scatterpolargl\": [{\"marker\": {\"colorbar\": {\"outlinewidth\": 0, \"ticks\": \"\"}}, \"type\": \"scatterpolargl\"}], \"scatterternary\": [{\"marker\": {\"colorbar\": {\"outlinewidth\": 0, \"ticks\": \"\"}}, \"type\": \"scatterternary\"}], \"surface\": [{\"colorbar\": {\"outlinewidth\": 0, \"ticks\": \"\"}, \"colorscale\": [[0.0, \"#0d0887\"], [0.1111111111111111, \"#46039f\"], [0.2222222222222222, \"#7201a8\"], [0.3333333333333333, \"#9c179e\"], [0.4444444444444444, \"#bd3786\"], [0.5555555555555556, \"#d8576b\"], [0.6666666666666666, \"#ed7953\"], [0.7777777777777778, \"#fb9f3a\"], [0.8888888888888888, \"#fdca26\"], [1.0, \"#f0f921\"]], \"type\": \"surface\"}], \"table\": [{\"cells\": {\"fill\": {\"color\": \"#EBF0F8\"}, \"line\": {\"color\": \"white\"}}, \"header\": {\"fill\": {\"color\": \"#C8D4E3\"}, \"line\": {\"color\": \"white\"}}, \"type\": \"table\"}]}, \"layout\": {\"annotationdefaults\": {\"arrowcolor\": \"#2a3f5f\", \"arrowhead\": 0, \"arrowwidth\": 1}, \"coloraxis\": {\"colorbar\": {\"outlinewidth\": 0, \"ticks\": \"\"}}, \"colorscale\": {\"diverging\": [[0, \"#8e0152\"], [0.1, \"#c51b7d\"], [0.2, \"#de77ae\"], [0.3, \"#f1b6da\"], [0.4, \"#fde0ef\"], [0.5, \"#f7f7f7\"], [0.6, \"#e6f5d0\"], [0.7, \"#b8e186\"], [0.8, \"#7fbc41\"], [0.9, \"#4d9221\"], [1, \"#276419\"]], \"sequential\": [[0.0, \"#0d0887\"], [0.1111111111111111, \"#46039f\"], [0.2222222222222222, \"#7201a8\"], [0.3333333333333333, \"#9c179e\"], [0.4444444444444444, \"#bd3786\"], [0.5555555555555556, \"#d8576b\"], [0.6666666666666666, \"#ed7953\"], [0.7777777777777778, \"#fb9f3a\"], [0.8888888888888888, \"#fdca26\"], [1.0, \"#f0f921\"]], \"sequentialminus\": [[0.0, \"#0d0887\"], [0.1111111111111111, \"#46039f\"], [0.2222222222222222, \"#7201a8\"], [0.3333333333333333, \"#9c179e\"], [0.4444444444444444, \"#bd3786\"], [0.5555555555555556, \"#d8576b\"], [0.6666666666666666, \"#ed7953\"], [0.7777777777777778, \"#fb9f3a\"], [0.8888888888888888, \"#fdca26\"], [1.0, \"#f0f921\"]]}, \"colorway\": [\"#636efa\", \"#EF553B\", \"#00cc96\", \"#ab63fa\", \"#FFA15A\", \"#19d3f3\", \"#FF6692\", \"#B6E880\", \"#FF97FF\", \"#FECB52\"], \"font\": {\"color\": \"#2a3f5f\"}, \"geo\": {\"bgcolor\": \"white\", \"lakecolor\": \"white\", \"landcolor\": \"#E5ECF6\", \"showlakes\": true, \"showland\": true, \"subunitcolor\": \"white\"}, \"hoverlabel\": {\"align\": \"left\"}, \"hovermode\": \"closest\", \"mapbox\": {\"style\": \"light\"}, \"paper_bgcolor\": \"white\", \"plot_bgcolor\": \"#E5ECF6\", \"polar\": {\"angularaxis\": {\"gridcolor\": \"white\", \"linecolor\": \"white\", \"ticks\": \"\"}, \"bgcolor\": \"#E5ECF6\", \"radialaxis\": {\"gridcolor\": \"white\", \"linecolor\": \"white\", \"ticks\": \"\"}}, \"scene\": {\"xaxis\": {\"backgroundcolor\": \"#E5ECF6\", \"gridcolor\": \"white\", \"gridwidth\": 2, \"linecolor\": \"white\", \"showbackground\": true, \"ticks\": \"\", \"zerolinecolor\": \"white\"}, \"yaxis\": {\"backgroundcolor\": \"#E5ECF6\", \"gridcolor\": \"white\", \"gridwidth\": 2, \"linecolor\": \"white\", \"showbackground\": true, \"ticks\": \"\", \"zerolinecolor\": \"white\"}, \"zaxis\": {\"backgroundcolor\": \"#E5ECF6\", \"gridcolor\": \"white\", \"gridwidth\": 2, \"linecolor\": \"white\", \"showbackground\": true, \"ticks\": \"\", \"zerolinecolor\": \"white\"}}, \"shapedefaults\": {\"line\": {\"color\": \"#2a3f5f\"}}, \"ternary\": {\"aaxis\": {\"gridcolor\": \"white\", \"linecolor\": \"white\", \"ticks\": \"\"}, \"baxis\": {\"gridcolor\": \"white\", \"linecolor\": \"white\", \"ticks\": \"\"}, \"bgcolor\": \"#E5ECF6\", \"caxis\": {\"gridcolor\": \"white\", \"linecolor\": \"white\", \"ticks\": \"\"}}, \"title\": {\"x\": 0.05}, \"xaxis\": {\"automargin\": true, \"gridcolor\": \"white\", \"linecolor\": \"white\", \"ticks\": \"\", \"title\": {\"standoff\": 15}, \"zerolinecolor\": \"white\", \"zerolinewidth\": 2}, \"yaxis\": {\"automargin\": true, \"gridcolor\": \"white\", \"linecolor\": \"white\", \"ticks\": \"\", \"title\": {\"standoff\": 15}, \"zerolinecolor\": \"white\", \"zerolinewidth\": 2}}}},\n",
       "                        {\"responsive\": true}\n",
       "                    ).then(function(){\n",
       "                            \n",
       "var gd = document.getElementById('57cb5985-7e95-4d03-9e3f-72ad52a84dca');\n",
       "var x = new MutationObserver(function (mutations, observer) {{\n",
       "        var display = window.getComputedStyle(gd).display;\n",
       "        if (!display || display === 'none') {{\n",
       "            console.log([gd, 'removed!']);\n",
       "            Plotly.purge(gd);\n",
       "            observer.disconnect();\n",
       "        }}\n",
       "}});\n",
       "\n",
       "// Listen for the removal of the full notebook cells\n",
       "var notebookContainer = gd.closest('#notebook-container');\n",
       "if (notebookContainer) {{\n",
       "    x.observe(notebookContainer, {childList: true});\n",
       "}}\n",
       "\n",
       "// Listen for the clearing of the current output cell\n",
       "var outputEl = gd.closest('.output');\n",
       "if (outputEl) {{\n",
       "    x.observe(outputEl, {childList: true});\n",
       "}}\n",
       "\n",
       "                        })\n",
       "                };\n",
       "                });\n",
       "            </script>\n",
       "        </div>"
      ]
     },
     "metadata": {},
     "output_type": "display_data"
    }
   ],
   "source": [
    "#AGE RATING FACTOR\n",
    "'''A Function To Plot Pie Plot using Plotly'''\n",
    "'''Takes time to load, click on run twice'''\n",
    "from IPython.display import Markdown\n",
    "def bold(string):\n",
    "    display(Markdown(string))\n",
    "def pie_plot(cnt_srs, colors, title):\n",
    "    labels=cnt_srs.index\n",
    "    values=cnt_srs.values\n",
    "    trace = go.Pie(labels=labels, \n",
    "                   values=values, \n",
    "                   title=title, \n",
    "                   hoverinfo='percent+value', \n",
    "                   textinfo='percent',\n",
    "                   textposition='inside',\n",
    "                   hole=0.5,\n",
    "                   showlegend=True,\n",
    "                   marker=dict(colors=colors,\n",
    "                               line=dict(color='yellow',\n",
    "                                         width=2),\n",
    "                              )\n",
    "                  )\n",
    "    return trace\n",
    "\n",
    "bold('**MOST OF THE APPS HAVE 4+ AGE RATING**')\n",
    "py.iplot([pie_plot(user['age_rating'].value_counts(), ['lightlime', 'gold', 'red'], 'age_rating')])"
   ]
  },
  {
   "cell_type": "markdown",
   "metadata": {},
   "source": [
    "# EXPENSIVE GAMES"
   ]
  },
  {
   "cell_type": "code",
   "execution_count": 159,
   "metadata": {},
   "outputs": [
    {
     "data": {
      "text/html": [
       "<div>\n",
       "<style scoped>\n",
       "    .dataframe tbody tr th:only-of-type {\n",
       "        vertical-align: middle;\n",
       "    }\n",
       "\n",
       "    .dataframe tbody tr th {\n",
       "        vertical-align: top;\n",
       "    }\n",
       "\n",
       "    .dataframe thead th {\n",
       "        text-align: right;\n",
       "    }\n",
       "</style>\n",
       "<table border=\"1\" class=\"dataframe\">\n",
       "  <thead>\n",
       "    <tr style=\"text-align: right;\">\n",
       "      <th></th>\n",
       "      <th>Name</th>\n",
       "      <th>Price</th>\n",
       "      <th>Avg_user_rating</th>\n",
       "      <th>Genres</th>\n",
       "      <th>Size</th>\n",
       "    </tr>\n",
       "  </thead>\n",
       "  <tbody>\n",
       "    <tr>\n",
       "      <th>9912</th>\n",
       "      <td>Terra Mystica</td>\n",
       "      <td>9.99</td>\n",
       "      <td>3.5</td>\n",
       "      <td>Puzzle</td>\n",
       "      <td>205543424</td>\n",
       "    </tr>\n",
       "    <tr>\n",
       "      <th>8417</th>\n",
       "      <td>Banner Saga 2</td>\n",
       "      <td>9.99</td>\n",
       "      <td>4.5</td>\n",
       "      <td>Adventure</td>\n",
       "      <td>3321082880</td>\n",
       "    </tr>\n",
       "    <tr>\n",
       "      <th>3985</th>\n",
       "      <td>Design CAD - create and edit DWG/DXF/CTM drawi...</td>\n",
       "      <td>9.99</td>\n",
       "      <td>1</td>\n",
       "      <td>Adventure</td>\n",
       "      <td>128368640</td>\n",
       "    </tr>\n",
       "    <tr>\n",
       "      <th>1306</th>\n",
       "      <td>Battle of the Bulge</td>\n",
       "      <td>9.99</td>\n",
       "      <td>4.5</td>\n",
       "      <td>Puzzle</td>\n",
       "      <td>459378688</td>\n",
       "    </tr>\n",
       "    <tr>\n",
       "      <th>3821</th>\n",
       "      <td>Quick Documents Pro for Office Productivity Docs</td>\n",
       "      <td>9.99</td>\n",
       "      <td>2</td>\n",
       "      <td>Business</td>\n",
       "      <td>211664896</td>\n",
       "    </tr>\n",
       "    <tr>\n",
       "      <th>2148</th>\n",
       "      <td>\"Baldur's Gate II: EE\"</td>\n",
       "      <td>9.99</td>\n",
       "      <td>4</td>\n",
       "      <td>Adventure</td>\n",
       "      <td>3747742720</td>\n",
       "    </tr>\n",
       "    <tr>\n",
       "      <th>966</th>\n",
       "      <td>RAVENMARK: Scourge of Estellion</td>\n",
       "      <td>9.99</td>\n",
       "      <td>4.5</td>\n",
       "      <td>Adventure</td>\n",
       "      <td>1025170432</td>\n",
       "    </tr>\n",
       "    <tr>\n",
       "      <th>2196</th>\n",
       "      <td>Solar Flux HD</td>\n",
       "      <td>8.99</td>\n",
       "      <td>4</td>\n",
       "      <td>Puzzle</td>\n",
       "      <td>170409984</td>\n",
       "    </tr>\n",
       "  </tbody>\n",
       "</table>\n",
       "</div>"
      ],
      "text/plain": [
       "                                                   Name Price Avg_user_rating  \\\n",
       "9912                                      Terra Mystica  9.99             3.5   \n",
       "8417                                      Banner Saga 2  9.99             4.5   \n",
       "3985  Design CAD - create and edit DWG/DXF/CTM drawi...  9.99               1   \n",
       "1306                                Battle of the Bulge  9.99             4.5   \n",
       "3821   Quick Documents Pro for Office Productivity Docs  9.99               2   \n",
       "2148                             \"Baldur's Gate II: EE\"  9.99               4   \n",
       "966                     RAVENMARK: Scourge of Estellion  9.99             4.5   \n",
       "2196                                      Solar Flux HD  8.99               4   \n",
       "\n",
       "         Genres        Size  \n",
       "9912     Puzzle   205543424  \n",
       "8417  Adventure  3321082880  \n",
       "3985  Adventure   128368640  \n",
       "1306     Puzzle   459378688  \n",
       "3821   Business   211664896  \n",
       "2148  Adventure  3747742720  \n",
       "966   Adventure  1025170432  \n",
       "2196     Puzzle   170409984  "
      ]
     },
     "execution_count": 159,
     "metadata": {},
     "output_type": "execute_result"
    }
   ],
   "source": [
    "user.dropna(inplace=True)\n",
    "price = user.sort_values(by='Price', ascending=False)[['Name', 'Price', 'Avg_user_rating','Genres', 'Size', 'Icon URL']].head(8)\n",
    "price.iloc[:, 0:-1]"
   ]
  },
  {
   "cell_type": "code",
   "execution_count": 192,
   "metadata": {},
   "outputs": [
    {
     "data": {
      "text/html": [
       "<div>\n",
       "<style scoped>\n",
       "    .dataframe tbody tr th:only-of-type {\n",
       "        vertical-align: middle;\n",
       "    }\n",
       "\n",
       "    .dataframe tbody tr th {\n",
       "        vertical-align: top;\n",
       "    }\n",
       "\n",
       "    .dataframe thead th {\n",
       "        text-align: right;\n",
       "    }\n",
       "</style>\n",
       "<table border=\"1\" class=\"dataframe\">\n",
       "  <thead>\n",
       "    <tr style=\"text-align: right;\">\n",
       "      <th></th>\n",
       "      <th>Name</th>\n",
       "      <th>Avg_user_rating</th>\n",
       "      <th>URC</th>\n",
       "      <th>Size</th>\n",
       "      <th>Genres</th>\n",
       "      <th>Price</th>\n",
       "      <th>Developer</th>\n",
       "    </tr>\n",
       "  </thead>\n",
       "  <tbody>\n",
       "    <tr>\n",
       "      <th>2223</th>\n",
       "      <td>\"Arizona Rose and the Pirates' Riddles HD\"</td>\n",
       "      <td>5</td>\n",
       "      <td>994</td>\n",
       "      <td>78258176</td>\n",
       "      <td>Puzzle</td>\n",
       "      <td>0</td>\n",
       "      <td>Anawiki Games</td>\n",
       "    </tr>\n",
       "    <tr>\n",
       "      <th>1650</th>\n",
       "      <td>Bloons TD 5</td>\n",
       "      <td>5</td>\n",
       "      <td>97776</td>\n",
       "      <td>133326848</td>\n",
       "      <td>Action</td>\n",
       "      <td>2.99</td>\n",
       "      <td>Ninja Kiwi</td>\n",
       "    </tr>\n",
       "    <tr>\n",
       "      <th>16163</th>\n",
       "      <td>Cooking Hot Cooking Games</td>\n",
       "      <td>5</td>\n",
       "      <td>9706</td>\n",
       "      <td>251574272</td>\n",
       "      <td>Simulation</td>\n",
       "      <td>0</td>\n",
       "      <td>FlyBird Limited</td>\n",
       "    </tr>\n",
       "    <tr>\n",
       "      <th>5478</th>\n",
       "      <td>Gem Quest - Jewel Games Puzzle</td>\n",
       "      <td>5</td>\n",
       "      <td>969</td>\n",
       "      <td>94669824</td>\n",
       "      <td>Puzzle</td>\n",
       "      <td>0</td>\n",
       "      <td>Miik Limited</td>\n",
       "    </tr>\n",
       "    <tr>\n",
       "      <th>11088</th>\n",
       "      <td>Angry Drunks</td>\n",
       "      <td>5</td>\n",
       "      <td>96</td>\n",
       "      <td>106083328</td>\n",
       "      <td>Casual</td>\n",
       "      <td>0</td>\n",
       "      <td>Angry Apps</td>\n",
       "    </tr>\n",
       "    <tr>\n",
       "      <th>...</th>\n",
       "      <td>...</td>\n",
       "      <td>...</td>\n",
       "      <td>...</td>\n",
       "      <td>...</td>\n",
       "      <td>...</td>\n",
       "      <td>...</td>\n",
       "      <td>...</td>\n",
       "    </tr>\n",
       "    <tr>\n",
       "      <th>4700</th>\n",
       "      <td>Bots Boom Bang</td>\n",
       "      <td>4</td>\n",
       "      <td>10</td>\n",
       "      <td>37484544</td>\n",
       "      <td>Music</td>\n",
       "      <td>0</td>\n",
       "      <td>Asylum Square Interactive GmbH</td>\n",
       "    </tr>\n",
       "    <tr>\n",
       "      <th>7345</th>\n",
       "      <td>Bil ve Fethet</td>\n",
       "      <td>4</td>\n",
       "      <td>10</td>\n",
       "      <td>114843648</td>\n",
       "      <td>Trivia</td>\n",
       "      <td>0</td>\n",
       "      <td>THX GAMES Zrt</td>\n",
       "    </tr>\n",
       "    <tr>\n",
       "      <th>8243</th>\n",
       "      <td>Ultimate Tic Tac Toe!</td>\n",
       "      <td>4</td>\n",
       "      <td>10</td>\n",
       "      <td>20883456</td>\n",
       "      <td>Puzzle</td>\n",
       "      <td>0</td>\n",
       "      <td>Gwyn Durbridge</td>\n",
       "    </tr>\n",
       "    <tr>\n",
       "      <th>12853</th>\n",
       "      <td>Divine Reign</td>\n",
       "      <td>4</td>\n",
       "      <td>10</td>\n",
       "      <td>98030592</td>\n",
       "      <td>Simulation</td>\n",
       "      <td>0</td>\n",
       "      <td>Adknown</td>\n",
       "    </tr>\n",
       "    <tr>\n",
       "      <th>15051</th>\n",
       "      <td>BuildInvest</td>\n",
       "      <td>4</td>\n",
       "      <td>10</td>\n",
       "      <td>79767552</td>\n",
       "      <td>Casino</td>\n",
       "      <td>0</td>\n",
       "      <td>Vladimir Ereskin</td>\n",
       "    </tr>\n",
       "  </tbody>\n",
       "</table>\n",
       "<p>2735 rows × 7 columns</p>\n",
       "</div>"
      ],
      "text/plain": [
       "                                             Name Avg_user_rating    URC  \\\n",
       "2223   \"Arizona Rose and the Pirates' Riddles HD\"               5    994   \n",
       "1650                                  Bloons TD 5               5  97776   \n",
       "16163                   Cooking Hot Cooking Games               5   9706   \n",
       "5478               Gem Quest - Jewel Games Puzzle               5    969   \n",
       "11088                                Angry Drunks               5     96   \n",
       "...                                           ...             ...    ...   \n",
       "4700                               Bots Boom Bang               4     10   \n",
       "7345                                Bil ve Fethet               4     10   \n",
       "8243                        Ultimate Tic Tac Toe!               4     10   \n",
       "12853                                Divine Reign               4     10   \n",
       "15051                                 BuildInvest               4     10   \n",
       "\n",
       "            Size      Genres Price                       Developer  \n",
       "2223    78258176      Puzzle     0                   Anawiki Games  \n",
       "1650   133326848      Action  2.99                      Ninja Kiwi  \n",
       "16163  251574272  Simulation     0                 FlyBird Limited  \n",
       "5478    94669824      Puzzle     0                    Miik Limited  \n",
       "11088  106083328      Casual     0                      Angry Apps  \n",
       "...          ...         ...   ...                             ...  \n",
       "4700    37484544       Music     0  Asylum Square Interactive GmbH  \n",
       "7345   114843648      Trivia     0                   THX GAMES Zrt  \n",
       "8243    20883456      Puzzle     0                  Gwyn Durbridge  \n",
       "12853   98030592  Simulation     0                         Adknown  \n",
       "15051   79767552      Casino     0                Vladimir Ereskin  \n",
       "\n",
       "[2735 rows x 7 columns]"
      ]
     },
     "execution_count": 192,
     "metadata": {},
     "output_type": "execute_result"
    }
   ],
   "source": [
    "best = user.sort_values(by=['Avg_user_rating', 'URC'], ascending=False)[['Name', 'Avg_user_rating', 'URC', 'Size','Genres', \n",
    "                                                                                         'Price', 'Developer', 'Icon URL']].head(2735)\n",
    "best.iloc[:, 0:-1]"
   ]
  },
  {
   "cell_type": "markdown",
   "metadata": {},
   "source": [
    "# CONCLUSIONS"
   ]
  },
  {
   "cell_type": "markdown",
   "metadata": {},
   "source": [
    "1) THERE ARE \"2735\" GAMES WHICH HAVE USER RATINGS BETWEEN 4.0/5.0\n",
    "2) THE GENRES HAVING HIGHER USER RATINGS ARE PUZZLE,ACTION,SIMULATION,ADVENTURE.\n",
    "3) THE GAME \"BLOONS TD 5\" DEVELOPED BY \"NINJA KIWI\" HAS THE HIGHEST USER RATING COUNT(97776) WHICH FALLS UNDER ACTION      GENRE.\n"
   ]
  }
 ],
 "metadata": {
  "kernelspec": {
   "display_name": "Python 3",
   "language": "python",
   "name": "python3"
  },
  "language_info": {
   "codemirror_mode": {
    "name": "ipython",
    "version": 3
   },
   "file_extension": ".py",
   "mimetype": "text/x-python",
   "name": "python",
   "nbconvert_exporter": "python",
   "pygments_lexer": "ipython3",
   "version": "3.7.4"
  }
 },
 "nbformat": 4,
 "nbformat_minor": 4
}
